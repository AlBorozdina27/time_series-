{
 "cells": [
  {
   "cell_type": "markdown",
   "metadata": {},
   "source": [
    "#  Прогнозирование заказов такси"
   ]
  },
  {
   "cell_type": "markdown",
   "metadata": {},
   "source": [
    "Компания «Чётенькое такси» собрала исторические данные о заказах такси в аэропортах. Чтобы привлекать больше водителей в период пиковой нагрузки, нужно спрогнозировать количество заказов такси на следующий час. Постройте модель для такого предсказания.\n",
    "\n",
    "Значение метрики *RMSE* на тестовой выборке должно быть не больше 48.\n",
    "\n",
    "Вам нужно:\n",
    "\n",
    "1. Загрузить данные и выполнить их ресемплирование по одному часу.\n",
    "2. Проанализировать данные.\n",
    "3. Обучить разные модели с различными гиперпараметрами. Сделать тестовую выборку размером 10% от исходных данных.\n",
    "4. Проверить данные на тестовой выборке и сделать выводы.\n",
    "\n",
    "\n",
    "Данные лежат в файле `taxi.csv`. Количество заказов находится в столбце `num_orders` (от англ. *number of orders*, «число заказов»)."
   ]
  },
  {
   "cell_type": "markdown",
   "metadata": {},
   "source": [
    "## Загрузка библиотек"
   ]
  },
  {
   "cell_type": "code",
   "execution_count": 1,
   "metadata": {},
   "outputs": [
    {
     "name": "stdout",
     "output_type": "stream",
     "text": [
      "Requirement already satisfied: lightgbm in /opt/conda/lib/python3.9/site-packages (3.3.1)\n",
      "Requirement already satisfied: scipy in /opt/conda/lib/python3.9/site-packages (from lightgbm) (1.9.1)\n",
      "Requirement already satisfied: scikit-learn!=0.22.0 in /opt/conda/lib/python3.9/site-packages (from lightgbm) (0.24.1)\n",
      "Requirement already satisfied: wheel in /opt/conda/lib/python3.9/site-packages (from lightgbm) (0.36.2)\n",
      "Requirement already satisfied: numpy in /opt/conda/lib/python3.9/site-packages (from lightgbm) (1.21.1)\n",
      "Requirement already satisfied: joblib>=0.11 in /opt/conda/lib/python3.9/site-packages (from scikit-learn!=0.22.0->lightgbm) (1.1.0)\n",
      "Requirement already satisfied: threadpoolctl>=2.0.0 in /opt/conda/lib/python3.9/site-packages (from scikit-learn!=0.22.0->lightgbm) (3.1.0)\n",
      "Note: you may need to restart the kernel to use updated packages.\n"
     ]
    }
   ],
   "source": [
    "pip install lightgbm"
   ]
  },
  {
   "cell_type": "code",
   "execution_count": 2,
   "metadata": {},
   "outputs": [],
   "source": [
    "import pandas as pd\n",
    "import matplotlib.pyplot as plt\n",
    "import numpy as np\n",
    "from sklearn.model_selection import train_test_split, GridSearchCV, TimeSeriesSplit\n",
    "from statsmodels.tsa.seasonal import seasonal_decompose\n",
    "from sklearn.linear_model import LinearRegression\n",
    "from lightgbm import LGBMRegressor as lgb\n",
    "from sklearn.ensemble import RandomForestRegressor\n",
    "from functools import partial\n",
    "from sklearn.metrics import mean_squared_error, make_scorer\n",
    "from sklearn.pipeline import Pipeline\n",
    "from sklearn.compose import ColumnTransformer\n",
    "from sklearn.impute import SimpleImputer\n",
    "from sklearn.dummy import DummyRegressor\n",
    "from sklearn.preprocessing import OneHotEncoder, StandardScaler, MinMaxScaler, RobustScaler"
   ]
  },
  {
   "cell_type": "markdown",
   "metadata": {},
   "source": [
    "## Подготовка"
   ]
  },
  {
   "cell_type": "code",
   "execution_count": 3,
   "metadata": {},
   "outputs": [
    {
     "data": {
      "text/html": [
       "<div>\n",
       "<style scoped>\n",
       "    .dataframe tbody tr th:only-of-type {\n",
       "        vertical-align: middle;\n",
       "    }\n",
       "\n",
       "    .dataframe tbody tr th {\n",
       "        vertical-align: top;\n",
       "    }\n",
       "\n",
       "    .dataframe thead th {\n",
       "        text-align: right;\n",
       "    }\n",
       "</style>\n",
       "<table border=\"1\" class=\"dataframe\">\n",
       "  <thead>\n",
       "    <tr style=\"text-align: right;\">\n",
       "      <th></th>\n",
       "      <th>num_orders</th>\n",
       "    </tr>\n",
       "    <tr>\n",
       "      <th>datetime</th>\n",
       "      <th></th>\n",
       "    </tr>\n",
       "  </thead>\n",
       "  <tbody>\n",
       "    <tr>\n",
       "      <th>2018-03-01 00:00:00</th>\n",
       "      <td>9</td>\n",
       "    </tr>\n",
       "    <tr>\n",
       "      <th>2018-03-01 00:10:00</th>\n",
       "      <td>14</td>\n",
       "    </tr>\n",
       "    <tr>\n",
       "      <th>2018-03-01 00:20:00</th>\n",
       "      <td>28</td>\n",
       "    </tr>\n",
       "    <tr>\n",
       "      <th>2018-03-01 00:30:00</th>\n",
       "      <td>20</td>\n",
       "    </tr>\n",
       "    <tr>\n",
       "      <th>2018-03-01 00:40:00</th>\n",
       "      <td>32</td>\n",
       "    </tr>\n",
       "  </tbody>\n",
       "</table>\n",
       "</div>"
      ],
      "text/plain": [
       "                     num_orders\n",
       "datetime                       \n",
       "2018-03-01 00:00:00           9\n",
       "2018-03-01 00:10:00          14\n",
       "2018-03-01 00:20:00          28\n",
       "2018-03-01 00:30:00          20\n",
       "2018-03-01 00:40:00          32"
      ]
     },
     "execution_count": 3,
     "metadata": {},
     "output_type": "execute_result"
    }
   ],
   "source": [
    "data = pd.read_csv('/datasets/taxi.csv', index_col=[0], parse_dates=[0])\n",
    "data.head()"
   ]
  },
  {
   "cell_type": "code",
   "execution_count": 4,
   "metadata": {},
   "outputs": [
    {
     "data": {
      "text/html": [
       "<div>\n",
       "<style scoped>\n",
       "    .dataframe tbody tr th:only-of-type {\n",
       "        vertical-align: middle;\n",
       "    }\n",
       "\n",
       "    .dataframe tbody tr th {\n",
       "        vertical-align: top;\n",
       "    }\n",
       "\n",
       "    .dataframe thead th {\n",
       "        text-align: right;\n",
       "    }\n",
       "</style>\n",
       "<table border=\"1\" class=\"dataframe\">\n",
       "  <thead>\n",
       "    <tr style=\"text-align: right;\">\n",
       "      <th></th>\n",
       "      <th>num_orders</th>\n",
       "    </tr>\n",
       "    <tr>\n",
       "      <th>datetime</th>\n",
       "      <th></th>\n",
       "    </tr>\n",
       "  </thead>\n",
       "  <tbody>\n",
       "    <tr>\n",
       "      <th>2018-08-31 23:10:00</th>\n",
       "      <td>32</td>\n",
       "    </tr>\n",
       "    <tr>\n",
       "      <th>2018-08-31 23:20:00</th>\n",
       "      <td>24</td>\n",
       "    </tr>\n",
       "    <tr>\n",
       "      <th>2018-08-31 23:30:00</th>\n",
       "      <td>27</td>\n",
       "    </tr>\n",
       "    <tr>\n",
       "      <th>2018-08-31 23:40:00</th>\n",
       "      <td>39</td>\n",
       "    </tr>\n",
       "    <tr>\n",
       "      <th>2018-08-31 23:50:00</th>\n",
       "      <td>53</td>\n",
       "    </tr>\n",
       "  </tbody>\n",
       "</table>\n",
       "</div>"
      ],
      "text/plain": [
       "                     num_orders\n",
       "datetime                       \n",
       "2018-08-31 23:10:00          32\n",
       "2018-08-31 23:20:00          24\n",
       "2018-08-31 23:30:00          27\n",
       "2018-08-31 23:40:00          39\n",
       "2018-08-31 23:50:00          53"
      ]
     },
     "execution_count": 4,
     "metadata": {},
     "output_type": "execute_result"
    }
   ],
   "source": [
    "data.tail() "
   ]
  },
  {
   "cell_type": "markdown",
   "metadata": {},
   "source": [
    "Увидели, что наши данные по времени с марта по август."
   ]
  },
  {
   "cell_type": "code",
   "execution_count": 5,
   "metadata": {},
   "outputs": [],
   "source": [
    "data.sort_index(inplace=True)\n",
    "data_day = data.resample('1D').sum()"
   ]
  },
  {
   "cell_type": "code",
   "execution_count": 6,
   "metadata": {},
   "outputs": [],
   "source": [
    "data = data.resample('1H').sum() #сделали ресемплирование по одному часу, смотря на суммарное количество заказов"
   ]
  },
  {
   "cell_type": "markdown",
   "metadata": {},
   "source": [
    "## Анализ"
   ]
  },
  {
   "cell_type": "markdown",
   "metadata": {},
   "source": [
    "**1) Суточный тренд и суточная сезонность**"
   ]
  },
  {
   "cell_type": "code",
   "execution_count": 7,
   "metadata": {},
   "outputs": [
    {
     "data": {
      "image/png": "[encoded data removed]",
      "text/plain": [
       "<Figure size 432x576 with 3 Axes>"
      ]
     },
     "metadata": {
      "needs_background": "light"
     },
     "output_type": "display_data"
    }
   ],
   "source": [
    "decomposed = seasonal_decompose(data)\n",
    "\n",
    "plt.figure(figsize=(6, 8))\n",
    "plt.subplot(311)\n",
    "\n",
    "decomposed.trend.plot(ax=plt.gca())\n",
    "plt.title('Daily Trend')\n",
    "plt.subplot(312)\n",
    "decomposed.seasonal.plot(ax=plt.gca())\n",
    "plt.title('Daily Seasonality')\n",
    "plt.subplot(313)\n",
    "decomposed.resid.plot(ax=plt.gca())\n",
    "plt.title('Daily Residuals')\n",
    "plt.tight_layout()\n",
    "plt.show()"
   ]
  },
  {
   "cell_type": "markdown",
   "metadata": {},
   "source": [
    "Можем сказать, что есть явный тренд по времени года в использовании такси данного сервиса: ближе к концу лета люди чаще заказывают такси в аэропортах. Оно и логично - летом, осенью люди чаще всего предпочитают улетать на отдых.\n",
    "\n",
    "---\n",
    "Остатки необъяснимы.\n",
    "\n",
    "---\n",
    "Что касается сезонности, то изучим ее чуть более детально, сделав срез за первые 10 дней июня."
   ]
  },
  {
   "cell_type": "code",
   "execution_count": 8,
   "metadata": {},
   "outputs": [
    {
     "data": {
      "image/png": "[encoded data removed]",
      "text/plain": [
       "<Figure size 432x288 with 1 Axes>"
      ]
     },
     "metadata": {
      "needs_background": "light"
     },
     "output_type": "display_data"
    }
   ],
   "source": [
    "decomposed.seasonal['2018-06-01':'2018-06-10'].plot(ax=plt.gca())\n",
    "plt.title('Seasonality for 10 days')\n",
    "plt.show()"
   ]
  },
  {
   "cell_type": "markdown",
   "metadata": {},
   "source": [
    "Можем предположить, что сезонность использования такси - больше заказов в аэроопортах присутствует ближе к ночи, и спос на такси в аэропорту спадает к утру."
   ]
  },
  {
   "cell_type": "markdown",
   "metadata": {},
   "source": [
    "**2) Недельный тренд и недельная сезонность**"
   ]
  },
  {
   "cell_type": "code",
   "execution_count": 9,
   "metadata": {},
   "outputs": [
    {
     "data": {
      "image/png": "[encoded data removed]",
      "text/plain": [
       "<Figure size 432x576 with 3 Axes>"
      ]
     },
     "metadata": {
      "needs_background": "light"
     },
     "output_type": "display_data"
    }
   ],
   "source": [
    "decomposed_day = seasonal_decompose(data_day)\n",
    "\n",
    "plt.figure(figsize=(6, 8))\n",
    "plt.subplot(311)\n",
    "\n",
    "decomposed_day.trend.plot(ax=plt.gca())\n",
    "plt.title('Weekly Trend')\n",
    "plt.subplot(312)\n",
    "decomposed_day.seasonal.plot(ax=plt.gca())\n",
    "plt.title('Weekly Seasonality')\n",
    "plt.subplot(313)\n",
    "decomposed_day.resid.plot(ax=plt.gca())\n",
    "plt.title('Weekly Residuals')\n",
    "plt.tight_layout()\n",
    "plt.show()"
   ]
  },
  {
   "cell_type": "markdown",
   "metadata": {},
   "source": [
    "Также заметим, что есть и недельный тренд - похожий на тот, что мы смотрели по дням\n",
    "\n",
    "---\n",
    "Что насчет недельной сезонности? Посмотрим поближе"
   ]
  },
  {
   "cell_type": "code",
   "execution_count": 10,
   "metadata": {},
   "outputs": [
    {
     "data": {
      "image/png": "[encoded data removed]",
      "text/plain": [
       "<Figure size 432x288 with 1 Axes>"
      ]
     },
     "metadata": {
      "needs_background": "light"
     },
     "output_type": "display_data"
    }
   ],
   "source": [
    "decomposed_day.seasonal['2018-06-01':'2018-06-21'].plot(ax=plt.gca())\n",
    "plt.title('Seasonality for 3 weeks')\n",
    "plt.show()"
   ]
  },
  {
   "cell_type": "markdown",
   "metadata": {},
   "source": [
    "Недельная сезонность есть! А именно:\n",
    "\n",
    "- Падения спроса на такси в аэропортах случается в начале недели - по понедельникам\n",
    "\n",
    "- Спрос растет ближе к концу недели, выходным"
   ]
  },
  {
   "cell_type": "markdown",
   "metadata": {},
   "source": [
    "**3) Скользящее среднее и скользящее стандартное отклонение**"
   ]
  },
  {
   "cell_type": "code",
   "execution_count": 11,
   "metadata": {},
   "outputs": [
    {
     "data": {
      "image/png": "[encoded data removed]",
      "text/plain": [
       "<Figure size 432x288 with 1 Axes>"
      ]
     },
     "metadata": {
      "needs_background": "light"
     },
     "output_type": "display_data"
    }
   ],
   "source": [
    "data.plot() #Посмотрим на наши данные\n",
    "plt.show()"
   ]
  },
  {
   "cell_type": "markdown",
   "metadata": {},
   "source": [
    "Судя по графику можем сказать, что наше распределение данных не стационарно, так как:\n",
    "\n",
    "- Стандартное отклонение меняется\n",
    "\n",
    "- Не так сильно, но и меняется среднее значение\n",
    "\n",
    "Чтобы данные можно было прогнозировать, попробуем вычислить разности временного ряда, при этом посмотрим на скользящее среднее и скользящее стандартное отклонение."
   ]
  },
  {
   "cell_type": "code",
   "execution_count": 12,
   "metadata": {},
   "outputs": [
    {
     "data": {
      "image/png": "[encoded data removed]",
      "text/plain": [
       "<Figure size 432x288 with 1 Axes>"
      ]
     },
     "metadata": {
      "needs_background": "light"
     },
     "output_type": "display_data"
    }
   ],
   "source": [
    "taxi_data = data - data.shift()\n",
    "taxi_data['mean'] = taxi_data['num_orders'].rolling(24).mean()\n",
    "taxi_data['std'] = taxi_data['num_orders'].rolling(24).std()\n",
    "taxi_data.plot()\n",
    "plt.show()"
   ]
  },
  {
   "cell_type": "markdown",
   "metadata": {},
   "source": [
    "Перейдем к прогнозированию."
   ]
  },
  {
   "cell_type": "markdown",
   "metadata": {},
   "source": [
    "## Обучение"
   ]
  },
  {
   "cell_type": "markdown",
   "metadata": {},
   "source": [
    "Добавим для обучения новые признаки, такие как: день недели, час. Именно по ним мы выявили сезонность."
   ]
  },
  {
   "cell_type": "code",
   "execution_count": 13,
   "metadata": {},
   "outputs": [],
   "source": [
    "def make_features(data, max_lag, rolling_mean_size):\n",
    "    data['hour'] = data.index.hour\n",
    "    data['dayofweek'] = data.index.dayofweek\n",
    "    \n",
    "    for lag in range(1, max_lag + 1):\n",
    "        data['lag_{}'.format(lag)] = data['num_orders'].shift(lag)\n",
    "\n",
    "    data['rolling_mean'] = data['num_orders'].shift().rolling(rolling_mean_size).mean()\n",
    "\n",
    "make_features(data, 24, 24)"
   ]
  },
  {
   "cell_type": "code",
   "execution_count": 14,
   "metadata": {},
   "outputs": [
    {
     "name": "stdout",
     "output_type": "stream",
     "text": [
      "<class 'pandas.core.frame.DataFrame'>\n",
      "DatetimeIndex: 4416 entries, 2018-03-01 00:00:00 to 2018-08-31 23:00:00\n",
      "Freq: H\n",
      "Data columns (total 28 columns):\n",
      " #   Column        Non-Null Count  Dtype  \n",
      "---  ------        --------------  -----  \n",
      " 0   num_orders    4416 non-null   int64  \n",
      " 1   hour          4416 non-null   int64  \n",
      " 2   dayofweek     4416 non-null   int64  \n",
      " 3   lag_1         4415 non-null   float64\n",
      " 4   lag_2         4414 non-null   float64\n",
      " 5   lag_3         4413 non-null   float64\n",
      " 6   lag_4         4412 non-null   float64\n",
      " 7   lag_5         4411 non-null   float64\n",
      " 8   lag_6         4410 non-null   float64\n",
      " 9   lag_7         4409 non-null   float64\n",
      " 10  lag_8         4408 non-null   float64\n",
      " 11  lag_9         4407 non-null   float64\n",
      " 12  lag_10        4406 non-null   float64\n",
      " 13  lag_11        4405 non-null   float64\n",
      " 14  lag_12        4404 non-null   float64\n",
      " 15  lag_13        4403 non-null   float64\n",
      " 16  lag_14        4402 non-null   float64\n",
      " 17  lag_15        4401 non-null   float64\n",
      " 18  lag_16        4400 non-null   float64\n",
      " 19  lag_17        4399 non-null   float64\n",
      " 20  lag_18        4398 non-null   float64\n",
      " 21  lag_19        4397 non-null   float64\n",
      " 22  lag_20        4396 non-null   float64\n",
      " 23  lag_21        4395 non-null   float64\n",
      " 24  lag_22        4394 non-null   float64\n",
      " 25  lag_23        4393 non-null   float64\n",
      " 26  lag_24        4392 non-null   float64\n",
      " 27  rolling_mean  4392 non-null   float64\n",
      "dtypes: float64(25), int64(3)\n",
      "memory usage: 1000.5 KB\n"
     ]
    }
   ],
   "source": [
    "data.info()"
   ]
  },
  {
   "cell_type": "code",
   "execution_count": 15,
   "metadata": {},
   "outputs": [],
   "source": [
    "train, test = train_test_split(data, shuffle=False, test_size=0.1)\n",
    "train = train.dropna()\n",
    "\n",
    "X_train = train.drop('num_orders', axis=1)\n",
    "y_train = train['num_orders']\n",
    "X_test = test.drop('num_orders', axis=1)\n",
    "y_test = test['num_orders']\n",
    "\n",
    "ohe_columns = ['dayofweek', 'hour']\n",
    "num_columns = ['rolling_mean']\n",
    "\n",
    "for i in range(1, 25):\n",
    "    num_columns.append(f'lag_{i}')"
   ]
  },
  {
   "cell_type": "code",
   "execution_count": 16,
   "metadata": {},
   "outputs": [],
   "source": [
    "ohe_pipe = Pipeline(\n",
    "    [\n",
    "        (\n",
    "            'simpleImputer_ohe', \n",
    "            SimpleImputer(missing_values=np.nan, strategy='most_frequent')\n",
    "        ),\n",
    "        (\n",
    "            'ohe', \n",
    "            OneHotEncoder(drop='first', handle_unknown='error')\n",
    "        )\n",
    "    ]\n",
    ")"
   ]
  },
  {
   "cell_type": "code",
   "execution_count": 17,
   "metadata": {},
   "outputs": [],
   "source": [
    "data_preprocessor = ColumnTransformer(\n",
    "    [('ohe', ohe_pipe, ohe_columns),\n",
    "     ('num', MinMaxScaler(), num_columns)], \n",
    "    remainder='passthrough'\n",
    ")\n",
    "\n",
    "pipe_final = Pipeline(\n",
    "    [\n",
    "        ('preprocessor', data_preprocessor),\n",
    "        ('models', LinearRegression())\n",
    "    ]\n",
    ")"
   ]
  },
  {
   "cell_type": "code",
   "execution_count": 18,
   "metadata": {},
   "outputs": [],
   "source": [
    "param_grid = [\n",
    "    {\n",
    "        'models': [RandomForestRegressor(random_state=42)],\n",
    "        'models__n_estimators': [100],\n",
    "        'models__max_depth': [5, 10],\n",
    "        'preprocessor__num': [StandardScaler(), MinMaxScaler(), 'passthrough']\n",
    "    },\n",
    "    {\n",
    "        'models': [LinearRegression()] ,\n",
    "        'preprocessor__num': [StandardScaler(), MinMaxScaler(), 'passthrough'] \n",
    "    }\n",
    "]"
   ]
  },
  {
   "cell_type": "code",
   "execution_count": 19,
   "metadata": {},
   "outputs": [],
   "source": [
    "root_mean_squared_error = partial(mean_squared_error, squared=False)\n",
    "rmse_error = make_scorer(root_mean_squared_error)\n",
    "\n",
    "tscv = TimeSeriesSplit(n_splits=5)\n",
    "\n",
    "grid_search = GridSearchCV(\n",
    "    pipe_final, \n",
    "    param_grid, \n",
    "    scoring=rmse_error, \n",
    "    cv=tscv, \n",
    "    n_jobs=-1,\n",
    "    verbose=2\n",
    ")"
   ]
  },
  {
   "cell_type": "code",
   "execution_count": 20,
   "metadata": {},
   "outputs": [
    {
     "name": "stdout",
     "output_type": "stream",
     "text": [
      "Fitting 5 folds for each of 9 candidates, totalling 45 fits\n"
     ]
    },
    {
     "name": "stderr",
     "output_type": "stream",
     "text": [
      "/opt/conda/lib/python3.9/site-packages/sklearn/impute/_base.py:49: FutureWarning: Unlike other reduction functions (e.g. `skew`, `kurtosis`), the default behavior of `mode` typically preserves the axis it acts along. In SciPy 1.11.0, this behavior will change: the default value of `keepdims` will become False, the `axis` over which the statistic is taken will be eliminated, and the value None will no longer be accepted. Set `keepdims` to True or False to avoid this warning.\n",
      "  mode = stats.mode(array)\n"
     ]
    },
    {
     "name": "stdout",
     "output_type": "stream",
     "text": [
      "[CV] END models=RandomForestRegressor(random_state=42), models__max_depth=5, models__n_estimators=100, preprocessor__num=StandardScaler(); total time=   0.5s\n"
     ]
    },
    {
     "name": "stderr",
     "output_type": "stream",
     "text": [
      "/opt/conda/lib/python3.9/site-packages/sklearn/impute/_base.py:49: FutureWarning: Unlike other reduction functions (e.g. `skew`, `kurtosis`), the default behavior of `mode` typically preserves the axis it acts along. In SciPy 1.11.0, this behavior will change: the default value of `keepdims` will become False, the `axis` over which the statistic is taken will be eliminated, and the value None will no longer be accepted. Set `keepdims` to True or False to avoid this warning.\n",
      "  mode = stats.mode(array)\n"
     ]
    },
    {
     "name": "stdout",
     "output_type": "stream",
     "text": [
      "[CV] END models=RandomForestRegressor(random_state=42), models__max_depth=5, models__n_estimators=100, preprocessor__num=StandardScaler(); total time=   0.8s\n"
     ]
    },
    {
     "name": "stderr",
     "output_type": "stream",
     "text": [
      "/opt/conda/lib/python3.9/site-packages/sklearn/impute/_base.py:49: FutureWarning: Unlike other reduction functions (e.g. `skew`, `kurtosis`), the default behavior of `mode` typically preserves the axis it acts along. In SciPy 1.11.0, this behavior will change: the default value of `keepdims` will become False, the `axis` over which the statistic is taken will be eliminated, and the value None will no longer be accepted. Set `keepdims` to True or False to avoid this warning.\n",
      "  mode = stats.mode(array)\n"
     ]
    },
    {
     "name": "stdout",
     "output_type": "stream",
     "text": [
      "[CV] END models=RandomForestRegressor(random_state=42), models__max_depth=5, models__n_estimators=100, preprocessor__num=StandardScaler(); total time=   1.1s\n"
     ]
    },
    {
     "name": "stderr",
     "output_type": "stream",
     "text": [
      "/opt/conda/lib/python3.9/site-packages/sklearn/impute/_base.py:49: FutureWarning: Unlike other reduction functions (e.g. `skew`, `kurtosis`), the default behavior of `mode` typically preserves the axis it acts along. In SciPy 1.11.0, this behavior will change: the default value of `keepdims` will become False, the `axis` over which the statistic is taken will be eliminated, and the value None will no longer be accepted. Set `keepdims` to True or False to avoid this warning.\n",
      "  mode = stats.mode(array)\n"
     ]
    },
    {
     "name": "stdout",
     "output_type": "stream",
     "text": [
      "[CV] END models=RandomForestRegressor(random_state=42), models__max_depth=5, models__n_estimators=100, preprocessor__num=StandardScaler(); total time=   1.4s\n"
     ]
    },
    {
     "name": "stderr",
     "output_type": "stream",
     "text": [
      "/opt/conda/lib/python3.9/site-packages/sklearn/impute/_base.py:49: FutureWarning: Unlike other reduction functions (e.g. `skew`, `kurtosis`), the default behavior of `mode` typically preserves the axis it acts along. In SciPy 1.11.0, this behavior will change: the default value of `keepdims` will become False, the `axis` over which the statistic is taken will be eliminated, and the value None will no longer be accepted. Set `keepdims` to True or False to avoid this warning.\n",
      "  mode = stats.mode(array)\n"
     ]
    },
    {
     "name": "stdout",
     "output_type": "stream",
     "text": [
      "[CV] END models=RandomForestRegressor(random_state=42), models__max_depth=5, models__n_estimators=100, preprocessor__num=StandardScaler(); total time=   1.7s\n"
     ]
    },
    {
     "name": "stderr",
     "output_type": "stream",
     "text": [
      "/opt/conda/lib/python3.9/site-packages/sklearn/impute/_base.py:49: FutureWarning: Unlike other reduction functions (e.g. `skew`, `kurtosis`), the default behavior of `mode` typically preserves the axis it acts along. In SciPy 1.11.0, this behavior will change: the default value of `keepdims` will become False, the `axis` over which the statistic is taken will be eliminated, and the value None will no longer be accepted. Set `keepdims` to True or False to avoid this warning.\n",
      "  mode = stats.mode(array)\n"
     ]
    },
    {
     "name": "stdout",
     "output_type": "stream",
     "text": [
      "[CV] END models=RandomForestRegressor(random_state=42), models__max_depth=5, models__n_estimators=100, preprocessor__num=MinMaxScaler(); total time=   0.4s\n"
     ]
    },
    {
     "name": "stderr",
     "output_type": "stream",
     "text": [
      "/opt/conda/lib/python3.9/site-packages/sklearn/impute/_base.py:49: FutureWarning: Unlike other reduction functions (e.g. `skew`, `kurtosis`), the default behavior of `mode` typically preserves the axis it acts along. In SciPy 1.11.0, this behavior will change: the default value of `keepdims` will become False, the `axis` over which the statistic is taken will be eliminated, and the value None will no longer be accepted. Set `keepdims` to True or False to avoid this warning.\n",
      "  mode = stats.mode(array)\n"
     ]
    },
    {
     "name": "stdout",
     "output_type": "stream",
     "text": [
      "[CV] END models=RandomForestRegressor(random_state=42), models__max_depth=5, models__n_estimators=100, preprocessor__num=MinMaxScaler(); total time=   0.8s\n"
     ]
    },
    {
     "name": "stderr",
     "output_type": "stream",
     "text": [
      "/opt/conda/lib/python3.9/site-packages/sklearn/impute/_base.py:49: FutureWarning: Unlike other reduction functions (e.g. `skew`, `kurtosis`), the default behavior of `mode` typically preserves the axis it acts along. In SciPy 1.11.0, this behavior will change: the default value of `keepdims` will become False, the `axis` over which the statistic is taken will be eliminated, and the value None will no longer be accepted. Set `keepdims` to True or False to avoid this warning.\n",
      "  mode = stats.mode(array)\n"
     ]
    },
    {
     "name": "stdout",
     "output_type": "stream",
     "text": [
      "[CV] END models=RandomForestRegressor(random_state=42), models__max_depth=5, models__n_estimators=100, preprocessor__num=MinMaxScaler(); total time=   1.0s\n"
     ]
    },
    {
     "name": "stderr",
     "output_type": "stream",
     "text": [
      "/opt/conda/lib/python3.9/site-packages/sklearn/impute/_base.py:49: FutureWarning: Unlike other reduction functions (e.g. `skew`, `kurtosis`), the default behavior of `mode` typically preserves the axis it acts along. In SciPy 1.11.0, this behavior will change: the default value of `keepdims` will become False, the `axis` over which the statistic is taken will be eliminated, and the value None will no longer be accepted. Set `keepdims` to True or False to avoid this warning.\n",
      "  mode = stats.mode(array)\n"
     ]
    },
    {
     "name": "stdout",
     "output_type": "stream",
     "text": [
      "[CV] END models=RandomForestRegressor(random_state=42), models__max_depth=5, models__n_estimators=100, preprocessor__num=MinMaxScaler(); total time=   1.4s\n"
     ]
    },
    {
     "name": "stderr",
     "output_type": "stream",
     "text": [
      "/opt/conda/lib/python3.9/site-packages/sklearn/impute/_base.py:49: FutureWarning: Unlike other reduction functions (e.g. `skew`, `kurtosis`), the default behavior of `mode` typically preserves the axis it acts along. In SciPy 1.11.0, this behavior will change: the default value of `keepdims` will become False, the `axis` over which the statistic is taken will be eliminated, and the value None will no longer be accepted. Set `keepdims` to True or False to avoid this warning.\n",
      "  mode = stats.mode(array)\n"
     ]
    },
    {
     "name": "stdout",
     "output_type": "stream",
     "text": [
      "[CV] END models=RandomForestRegressor(random_state=42), models__max_depth=5, models__n_estimators=100, preprocessor__num=MinMaxScaler(); total time=   1.7s\n"
     ]
    },
    {
     "name": "stderr",
     "output_type": "stream",
     "text": [
      "/opt/conda/lib/python3.9/site-packages/sklearn/impute/_base.py:49: FutureWarning: Unlike other reduction functions (e.g. `skew`, `kurtosis`), the default behavior of `mode` typically preserves the axis it acts along. In SciPy 1.11.0, this behavior will change: the default value of `keepdims` will become False, the `axis` over which the statistic is taken will be eliminated, and the value None will no longer be accepted. Set `keepdims` to True or False to avoid this warning.\n",
      "  mode = stats.mode(array)\n"
     ]
    },
    {
     "name": "stdout",
     "output_type": "stream",
     "text": [
      "[CV] END models=RandomForestRegressor(random_state=42), models__max_depth=5, models__n_estimators=100, preprocessor__num=passthrough; total time=   0.4s\n"
     ]
    },
    {
     "name": "stderr",
     "output_type": "stream",
     "text": [
      "/opt/conda/lib/python3.9/site-packages/sklearn/impute/_base.py:49: FutureWarning: Unlike other reduction functions (e.g. `skew`, `kurtosis`), the default behavior of `mode` typically preserves the axis it acts along. In SciPy 1.11.0, this behavior will change: the default value of `keepdims` will become False, the `axis` over which the statistic is taken will be eliminated, and the value None will no longer be accepted. Set `keepdims` to True or False to avoid this warning.\n",
      "  mode = stats.mode(array)\n"
     ]
    },
    {
     "name": "stdout",
     "output_type": "stream",
     "text": [
      "[CV] END models=RandomForestRegressor(random_state=42), models__max_depth=5, models__n_estimators=100, preprocessor__num=passthrough; total time=   0.7s\n"
     ]
    },
    {
     "name": "stderr",
     "output_type": "stream",
     "text": [
      "/opt/conda/lib/python3.9/site-packages/sklearn/impute/_base.py:49: FutureWarning: Unlike other reduction functions (e.g. `skew`, `kurtosis`), the default behavior of `mode` typically preserves the axis it acts along. In SciPy 1.11.0, this behavior will change: the default value of `keepdims` will become False, the `axis` over which the statistic is taken will be eliminated, and the value None will no longer be accepted. Set `keepdims` to True or False to avoid this warning.\n",
      "  mode = stats.mode(array)\n"
     ]
    },
    {
     "name": "stdout",
     "output_type": "stream",
     "text": [
      "[CV] END models=RandomForestRegressor(random_state=42), models__max_depth=5, models__n_estimators=100, preprocessor__num=passthrough; total time=   1.0s\n"
     ]
    },
    {
     "name": "stderr",
     "output_type": "stream",
     "text": [
      "/opt/conda/lib/python3.9/site-packages/sklearn/impute/_base.py:49: FutureWarning: Unlike other reduction functions (e.g. `skew`, `kurtosis`), the default behavior of `mode` typically preserves the axis it acts along. In SciPy 1.11.0, this behavior will change: the default value of `keepdims` will become False, the `axis` over which the statistic is taken will be eliminated, and the value None will no longer be accepted. Set `keepdims` to True or False to avoid this warning.\n",
      "  mode = stats.mode(array)\n"
     ]
    },
    {
     "name": "stdout",
     "output_type": "stream",
     "text": [
      "[CV] END models=RandomForestRegressor(random_state=42), models__max_depth=5, models__n_estimators=100, preprocessor__num=passthrough; total time=   1.4s\n"
     ]
    },
    {
     "name": "stderr",
     "output_type": "stream",
     "text": [
      "/opt/conda/lib/python3.9/site-packages/sklearn/impute/_base.py:49: FutureWarning: Unlike other reduction functions (e.g. `skew`, `kurtosis`), the default behavior of `mode` typically preserves the axis it acts along. In SciPy 1.11.0, this behavior will change: the default value of `keepdims` will become False, the `axis` over which the statistic is taken will be eliminated, and the value None will no longer be accepted. Set `keepdims` to True or False to avoid this warning.\n",
      "  mode = stats.mode(array)\n"
     ]
    },
    {
     "name": "stdout",
     "output_type": "stream",
     "text": [
      "[CV] END models=RandomForestRegressor(random_state=42), models__max_depth=5, models__n_estimators=100, preprocessor__num=passthrough; total time=   1.6s\n"
     ]
    },
    {
     "name": "stderr",
     "output_type": "stream",
     "text": [
      "/opt/conda/lib/python3.9/site-packages/sklearn/impute/_base.py:49: FutureWarning: Unlike other reduction functions (e.g. `skew`, `kurtosis`), the default behavior of `mode` typically preserves the axis it acts along. In SciPy 1.11.0, this behavior will change: the default value of `keepdims` will become False, the `axis` over which the statistic is taken will be eliminated, and the value None will no longer be accepted. Set `keepdims` to True or False to avoid this warning.\n",
      "  mode = stats.mode(array)\n"
     ]
    },
    {
     "name": "stdout",
     "output_type": "stream",
     "text": [
      "[CV] END models=RandomForestRegressor(random_state=42), models__max_depth=10, models__n_estimators=100, preprocessor__num=StandardScaler(); total time=   0.7s\n"
     ]
    },
    {
     "name": "stderr",
     "output_type": "stream",
     "text": [
      "/opt/conda/lib/python3.9/site-packages/sklearn/impute/_base.py:49: FutureWarning: Unlike other reduction functions (e.g. `skew`, `kurtosis`), the default behavior of `mode` typically preserves the axis it acts along. In SciPy 1.11.0, this behavior will change: the default value of `keepdims` will become False, the `axis` over which the statistic is taken will be eliminated, and the value None will no longer be accepted. Set `keepdims` to True or False to avoid this warning.\n",
      "  mode = stats.mode(array)\n"
     ]
    },
    {
     "name": "stdout",
     "output_type": "stream",
     "text": [
      "[CV] END models=RandomForestRegressor(random_state=42), models__max_depth=10, models__n_estimators=100, preprocessor__num=StandardScaler(); total time=   1.3s\n"
     ]
    },
    {
     "name": "stderr",
     "output_type": "stream",
     "text": [
      "/opt/conda/lib/python3.9/site-packages/sklearn/impute/_base.py:49: FutureWarning: Unlike other reduction functions (e.g. `skew`, `kurtosis`), the default behavior of `mode` typically preserves the axis it acts along. In SciPy 1.11.0, this behavior will change: the default value of `keepdims` will become False, the `axis` over which the statistic is taken will be eliminated, and the value None will no longer be accepted. Set `keepdims` to True or False to avoid this warning.\n",
      "  mode = stats.mode(array)\n"
     ]
    },
    {
     "name": "stdout",
     "output_type": "stream",
     "text": [
      "[CV] END models=RandomForestRegressor(random_state=42), models__max_depth=10, models__n_estimators=100, preprocessor__num=StandardScaler(); total time=   1.9s\n"
     ]
    },
    {
     "name": "stderr",
     "output_type": "stream",
     "text": [
      "/opt/conda/lib/python3.9/site-packages/sklearn/impute/_base.py:49: FutureWarning: Unlike other reduction functions (e.g. `skew`, `kurtosis`), the default behavior of `mode` typically preserves the axis it acts along. In SciPy 1.11.0, this behavior will change: the default value of `keepdims` will become False, the `axis` over which the statistic is taken will be eliminated, and the value None will no longer be accepted. Set `keepdims` to True or False to avoid this warning.\n",
      "  mode = stats.mode(array)\n"
     ]
    },
    {
     "name": "stdout",
     "output_type": "stream",
     "text": [
      "[CV] END models=RandomForestRegressor(random_state=42), models__max_depth=10, models__n_estimators=100, preprocessor__num=StandardScaler(); total time=   2.5s\n"
     ]
    },
    {
     "name": "stderr",
     "output_type": "stream",
     "text": [
      "/opt/conda/lib/python3.9/site-packages/sklearn/impute/_base.py:49: FutureWarning: Unlike other reduction functions (e.g. `skew`, `kurtosis`), the default behavior of `mode` typically preserves the axis it acts along. In SciPy 1.11.0, this behavior will change: the default value of `keepdims` will become False, the `axis` over which the statistic is taken will be eliminated, and the value None will no longer be accepted. Set `keepdims` to True or False to avoid this warning.\n",
      "  mode = stats.mode(array)\n"
     ]
    },
    {
     "name": "stdout",
     "output_type": "stream",
     "text": [
      "[CV] END models=RandomForestRegressor(random_state=42), models__max_depth=10, models__n_estimators=100, preprocessor__num=StandardScaler(); total time=   3.1s\n"
     ]
    },
    {
     "name": "stderr",
     "output_type": "stream",
     "text": [
      "/opt/conda/lib/python3.9/site-packages/sklearn/impute/_base.py:49: FutureWarning: Unlike other reduction functions (e.g. `skew`, `kurtosis`), the default behavior of `mode` typically preserves the axis it acts along. In SciPy 1.11.0, this behavior will change: the default value of `keepdims` will become False, the `axis` over which the statistic is taken will be eliminated, and the value None will no longer be accepted. Set `keepdims` to True or False to avoid this warning.\n",
      "  mode = stats.mode(array)\n"
     ]
    },
    {
     "name": "stdout",
     "output_type": "stream",
     "text": [
      "[CV] END models=RandomForestRegressor(random_state=42), models__max_depth=10, models__n_estimators=100, preprocessor__num=MinMaxScaler(); total time=   0.7s\n"
     ]
    },
    {
     "name": "stderr",
     "output_type": "stream",
     "text": [
      "/opt/conda/lib/python3.9/site-packages/sklearn/impute/_base.py:49: FutureWarning: Unlike other reduction functions (e.g. `skew`, `kurtosis`), the default behavior of `mode` typically preserves the axis it acts along. In SciPy 1.11.0, this behavior will change: the default value of `keepdims` will become False, the `axis` over which the statistic is taken will be eliminated, and the value None will no longer be accepted. Set `keepdims` to True or False to avoid this warning.\n",
      "  mode = stats.mode(array)\n"
     ]
    },
    {
     "name": "stdout",
     "output_type": "stream",
     "text": [
      "[CV] END models=RandomForestRegressor(random_state=42), models__max_depth=10, models__n_estimators=100, preprocessor__num=MinMaxScaler(); total time=   1.3s\n"
     ]
    },
    {
     "name": "stderr",
     "output_type": "stream",
     "text": [
      "/opt/conda/lib/python3.9/site-packages/sklearn/impute/_base.py:49: FutureWarning: Unlike other reduction functions (e.g. `skew`, `kurtosis`), the default behavior of `mode` typically preserves the axis it acts along. In SciPy 1.11.0, this behavior will change: the default value of `keepdims` will become False, the `axis` over which the statistic is taken will be eliminated, and the value None will no longer be accepted. Set `keepdims` to True or False to avoid this warning.\n",
      "  mode = stats.mode(array)\n"
     ]
    },
    {
     "name": "stdout",
     "output_type": "stream",
     "text": [
      "[CV] END models=RandomForestRegressor(random_state=42), models__max_depth=10, models__n_estimators=100, preprocessor__num=MinMaxScaler(); total time=   1.9s\n"
     ]
    },
    {
     "name": "stderr",
     "output_type": "stream",
     "text": [
      "/opt/conda/lib/python3.9/site-packages/sklearn/impute/_base.py:49: FutureWarning: Unlike other reduction functions (e.g. `skew`, `kurtosis`), the default behavior of `mode` typically preserves the axis it acts along. In SciPy 1.11.0, this behavior will change: the default value of `keepdims` will become False, the `axis` over which the statistic is taken will be eliminated, and the value None will no longer be accepted. Set `keepdims` to True or False to avoid this warning.\n",
      "  mode = stats.mode(array)\n"
     ]
    },
    {
     "name": "stdout",
     "output_type": "stream",
     "text": [
      "[CV] END models=RandomForestRegressor(random_state=42), models__max_depth=10, models__n_estimators=100, preprocessor__num=MinMaxScaler(); total time=   2.5s\n"
     ]
    },
    {
     "name": "stderr",
     "output_type": "stream",
     "text": [
      "/opt/conda/lib/python3.9/site-packages/sklearn/impute/_base.py:49: FutureWarning: Unlike other reduction functions (e.g. `skew`, `kurtosis`), the default behavior of `mode` typically preserves the axis it acts along. In SciPy 1.11.0, this behavior will change: the default value of `keepdims` will become False, the `axis` over which the statistic is taken will be eliminated, and the value None will no longer be accepted. Set `keepdims` to True or False to avoid this warning.\n",
      "  mode = stats.mode(array)\n"
     ]
    },
    {
     "name": "stdout",
     "output_type": "stream",
     "text": [
      "[CV] END models=RandomForestRegressor(random_state=42), models__max_depth=10, models__n_estimators=100, preprocessor__num=MinMaxScaler(); total time=   3.1s\n"
     ]
    },
    {
     "name": "stderr",
     "output_type": "stream",
     "text": [
      "/opt/conda/lib/python3.9/site-packages/sklearn/impute/_base.py:49: FutureWarning: Unlike other reduction functions (e.g. `skew`, `kurtosis`), the default behavior of `mode` typically preserves the axis it acts along. In SciPy 1.11.0, this behavior will change: the default value of `keepdims` will become False, the `axis` over which the statistic is taken will be eliminated, and the value None will no longer be accepted. Set `keepdims` to True or False to avoid this warning.\n",
      "  mode = stats.mode(array)\n"
     ]
    },
    {
     "name": "stdout",
     "output_type": "stream",
     "text": [
      "[CV] END models=RandomForestRegressor(random_state=42), models__max_depth=10, models__n_estimators=100, preprocessor__num=passthrough; total time=   0.7s\n"
     ]
    },
    {
     "name": "stderr",
     "output_type": "stream",
     "text": [
      "/opt/conda/lib/python3.9/site-packages/sklearn/impute/_base.py:49: FutureWarning: Unlike other reduction functions (e.g. `skew`, `kurtosis`), the default behavior of `mode` typically preserves the axis it acts along. In SciPy 1.11.0, this behavior will change: the default value of `keepdims` will become False, the `axis` over which the statistic is taken will be eliminated, and the value None will no longer be accepted. Set `keepdims` to True or False to avoid this warning.\n",
      "  mode = stats.mode(array)\n"
     ]
    },
    {
     "name": "stdout",
     "output_type": "stream",
     "text": [
      "[CV] END models=RandomForestRegressor(random_state=42), models__max_depth=10, models__n_estimators=100, preprocessor__num=passthrough; total time=   1.3s\n"
     ]
    },
    {
     "name": "stderr",
     "output_type": "stream",
     "text": [
      "/opt/conda/lib/python3.9/site-packages/sklearn/impute/_base.py:49: FutureWarning: Unlike other reduction functions (e.g. `skew`, `kurtosis`), the default behavior of `mode` typically preserves the axis it acts along. In SciPy 1.11.0, this behavior will change: the default value of `keepdims` will become False, the `axis` over which the statistic is taken will be eliminated, and the value None will no longer be accepted. Set `keepdims` to True or False to avoid this warning.\n",
      "  mode = stats.mode(array)\n"
     ]
    },
    {
     "name": "stdout",
     "output_type": "stream",
     "text": [
      "[CV] END models=RandomForestRegressor(random_state=42), models__max_depth=10, models__n_estimators=100, preprocessor__num=passthrough; total time=   1.9s\n"
     ]
    },
    {
     "name": "stderr",
     "output_type": "stream",
     "text": [
      "/opt/conda/lib/python3.9/site-packages/sklearn/impute/_base.py:49: FutureWarning: Unlike other reduction functions (e.g. `skew`, `kurtosis`), the default behavior of `mode` typically preserves the axis it acts along. In SciPy 1.11.0, this behavior will change: the default value of `keepdims` will become False, the `axis` over which the statistic is taken will be eliminated, and the value None will no longer be accepted. Set `keepdims` to True or False to avoid this warning.\n",
      "  mode = stats.mode(array)\n"
     ]
    },
    {
     "name": "stdout",
     "output_type": "stream",
     "text": [
      "[CV] END models=RandomForestRegressor(random_state=42), models__max_depth=10, models__n_estimators=100, preprocessor__num=passthrough; total time=   2.6s\n"
     ]
    },
    {
     "name": "stderr",
     "output_type": "stream",
     "text": [
      "/opt/conda/lib/python3.9/site-packages/sklearn/impute/_base.py:49: FutureWarning: Unlike other reduction functions (e.g. `skew`, `kurtosis`), the default behavior of `mode` typically preserves the axis it acts along. In SciPy 1.11.0, this behavior will change: the default value of `keepdims` will become False, the `axis` over which the statistic is taken will be eliminated, and the value None will no longer be accepted. Set `keepdims` to True or False to avoid this warning.\n",
      "  mode = stats.mode(array)\n"
     ]
    },
    {
     "name": "stdout",
     "output_type": "stream",
     "text": [
      "[CV] END models=RandomForestRegressor(random_state=42), models__max_depth=10, models__n_estimators=100, preprocessor__num=passthrough; total time=   3.2s\n",
      "[CV] END models=LinearRegression(), preprocessor__num=StandardScaler(); total time=   0.2s\n"
     ]
    },
    {
     "name": "stderr",
     "output_type": "stream",
     "text": [
      "/opt/conda/lib/python3.9/site-packages/sklearn/impute/_base.py:49: FutureWarning: Unlike other reduction functions (e.g. `skew`, `kurtosis`), the default behavior of `mode` typically preserves the axis it acts along. In SciPy 1.11.0, this behavior will change: the default value of `keepdims` will become False, the `axis` over which the statistic is taken will be eliminated, and the value None will no longer be accepted. Set `keepdims` to True or False to avoid this warning.\n",
      "  mode = stats.mode(array)\n",
      "/opt/conda/lib/python3.9/site-packages/sklearn/impute/_base.py:49: FutureWarning: Unlike other reduction functions (e.g. `skew`, `kurtosis`), the default behavior of `mode` typically preserves the axis it acts along. In SciPy 1.11.0, this behavior will change: the default value of `keepdims` will become False, the `axis` over which the statistic is taken will be eliminated, and the value None will no longer be accepted. Set `keepdims` to True or False to avoid this warning.\n",
      "  mode = stats.mode(array)\n"
     ]
    },
    {
     "name": "stdout",
     "output_type": "stream",
     "text": [
      "[CV] END models=LinearRegression(), preprocessor__num=StandardScaler(); total time=   0.2s\n"
     ]
    },
    {
     "name": "stderr",
     "output_type": "stream",
     "text": [
      "/opt/conda/lib/python3.9/site-packages/sklearn/impute/_base.py:49: FutureWarning: Unlike other reduction functions (e.g. `skew`, `kurtosis`), the default behavior of `mode` typically preserves the axis it acts along. In SciPy 1.11.0, this behavior will change: the default value of `keepdims` will become False, the `axis` over which the statistic is taken will be eliminated, and the value None will no longer be accepted. Set `keepdims` to True or False to avoid this warning.\n",
      "  mode = stats.mode(array)\n"
     ]
    },
    {
     "name": "stdout",
     "output_type": "stream",
     "text": [
      "[CV] END models=LinearRegression(), preprocessor__num=StandardScaler(); total time=   0.3s\n"
     ]
    },
    {
     "name": "stderr",
     "output_type": "stream",
     "text": [
      "/opt/conda/lib/python3.9/site-packages/sklearn/impute/_base.py:49: FutureWarning: Unlike other reduction functions (e.g. `skew`, `kurtosis`), the default behavior of `mode` typically preserves the axis it acts along. In SciPy 1.11.0, this behavior will change: the default value of `keepdims` will become False, the `axis` over which the statistic is taken will be eliminated, and the value None will no longer be accepted. Set `keepdims` to True or False to avoid this warning.\n",
      "  mode = stats.mode(array)\n"
     ]
    },
    {
     "name": "stdout",
     "output_type": "stream",
     "text": [
      "[CV] END models=LinearRegression(), preprocessor__num=StandardScaler(); total time=   0.4s\n",
      "[CV] END models=LinearRegression(), preprocessor__num=StandardScaler(); total time=   0.2s\n"
     ]
    },
    {
     "name": "stderr",
     "output_type": "stream",
     "text": [
      "/opt/conda/lib/python3.9/site-packages/sklearn/impute/_base.py:49: FutureWarning: Unlike other reduction functions (e.g. `skew`, `kurtosis`), the default behavior of `mode` typically preserves the axis it acts along. In SciPy 1.11.0, this behavior will change: the default value of `keepdims` will become False, the `axis` over which the statistic is taken will be eliminated, and the value None will no longer be accepted. Set `keepdims` to True or False to avoid this warning.\n",
      "  mode = stats.mode(array)\n",
      "/opt/conda/lib/python3.9/site-packages/sklearn/impute/_base.py:49: FutureWarning: Unlike other reduction functions (e.g. `skew`, `kurtosis`), the default behavior of `mode` typically preserves the axis it acts along. In SciPy 1.11.0, this behavior will change: the default value of `keepdims` will become False, the `axis` over which the statistic is taken will be eliminated, and the value None will no longer be accepted. Set `keepdims` to True or False to avoid this warning.\n",
      "  mode = stats.mode(array)\n"
     ]
    },
    {
     "name": "stdout",
     "output_type": "stream",
     "text": [
      "[CV] END models=LinearRegression(), preprocessor__num=MinMaxScaler(); total time=   0.2s\n"
     ]
    },
    {
     "name": "stderr",
     "output_type": "stream",
     "text": [
      "/opt/conda/lib/python3.9/site-packages/sklearn/impute/_base.py:49: FutureWarning: Unlike other reduction functions (e.g. `skew`, `kurtosis`), the default behavior of `mode` typically preserves the axis it acts along. In SciPy 1.11.0, this behavior will change: the default value of `keepdims` will become False, the `axis` over which the statistic is taken will be eliminated, and the value None will no longer be accepted. Set `keepdims` to True or False to avoid this warning.\n",
      "  mode = stats.mode(array)\n"
     ]
    },
    {
     "name": "stdout",
     "output_type": "stream",
     "text": [
      "[CV] END models=LinearRegression(), preprocessor__num=MinMaxScaler(); total time=   0.4s\n"
     ]
    },
    {
     "name": "stderr",
     "output_type": "stream",
     "text": [
      "/opt/conda/lib/python3.9/site-packages/sklearn/impute/_base.py:49: FutureWarning: Unlike other reduction functions (e.g. `skew`, `kurtosis`), the default behavior of `mode` typically preserves the axis it acts along. In SciPy 1.11.0, this behavior will change: the default value of `keepdims` will become False, the `axis` over which the statistic is taken will be eliminated, and the value None will no longer be accepted. Set `keepdims` to True or False to avoid this warning.\n",
      "  mode = stats.mode(array)\n"
     ]
    },
    {
     "name": "stdout",
     "output_type": "stream",
     "text": [
      "[CV] END models=LinearRegression(), preprocessor__num=MinMaxScaler(); total time=   0.4s\n"
     ]
    },
    {
     "name": "stderr",
     "output_type": "stream",
     "text": [
      "/opt/conda/lib/python3.9/site-packages/sklearn/impute/_base.py:49: FutureWarning: Unlike other reduction functions (e.g. `skew`, `kurtosis`), the default behavior of `mode` typically preserves the axis it acts along. In SciPy 1.11.0, this behavior will change: the default value of `keepdims` will become False, the `axis` over which the statistic is taken will be eliminated, and the value None will no longer be accepted. Set `keepdims` to True or False to avoid this warning.\n",
      "  mode = stats.mode(array)\n"
     ]
    },
    {
     "name": "stdout",
     "output_type": "stream",
     "text": [
      "[CV] END models=LinearRegression(), preprocessor__num=MinMaxScaler(); total time=   0.4s\n"
     ]
    },
    {
     "name": "stderr",
     "output_type": "stream",
     "text": [
      "/opt/conda/lib/python3.9/site-packages/sklearn/impute/_base.py:49: FutureWarning: Unlike other reduction functions (e.g. `skew`, `kurtosis`), the default behavior of `mode` typically preserves the axis it acts along. In SciPy 1.11.0, this behavior will change: the default value of `keepdims` will become False, the `axis` over which the statistic is taken will be eliminated, and the value None will no longer be accepted. Set `keepdims` to True or False to avoid this warning.\n",
      "  mode = stats.mode(array)\n"
     ]
    },
    {
     "name": "stdout",
     "output_type": "stream",
     "text": [
      "[CV] END models=LinearRegression(), preprocessor__num=MinMaxScaler(); total time=   0.3s\n"
     ]
    },
    {
     "name": "stderr",
     "output_type": "stream",
     "text": [
      "/opt/conda/lib/python3.9/site-packages/sklearn/impute/_base.py:49: FutureWarning: Unlike other reduction functions (e.g. `skew`, `kurtosis`), the default behavior of `mode` typically preserves the axis it acts along. In SciPy 1.11.0, this behavior will change: the default value of `keepdims` will become False, the `axis` over which the statistic is taken will be eliminated, and the value None will no longer be accepted. Set `keepdims` to True or False to avoid this warning.\n",
      "  mode = stats.mode(array)\n",
      "/opt/conda/lib/python3.9/site-packages/sklearn/impute/_base.py:49: FutureWarning: Unlike other reduction functions (e.g. `skew`, `kurtosis`), the default behavior of `mode` typically preserves the axis it acts along. In SciPy 1.11.0, this behavior will change: the default value of `keepdims` will become False, the `axis` over which the statistic is taken will be eliminated, and the value None will no longer be accepted. Set `keepdims` to True or False to avoid this warning.\n",
      "  mode = stats.mode(array)\n"
     ]
    },
    {
     "name": "stdout",
     "output_type": "stream",
     "text": [
      "[CV] END models=LinearRegression(), preprocessor__num=passthrough; total time=   0.2s\n",
      "[CV] END models=LinearRegression(), preprocessor__num=passthrough; total time=   0.3s\n"
     ]
    },
    {
     "name": "stderr",
     "output_type": "stream",
     "text": [
      "/opt/conda/lib/python3.9/site-packages/sklearn/impute/_base.py:49: FutureWarning: Unlike other reduction functions (e.g. `skew`, `kurtosis`), the default behavior of `mode` typically preserves the axis it acts along. In SciPy 1.11.0, this behavior will change: the default value of `keepdims` will become False, the `axis` over which the statistic is taken will be eliminated, and the value None will no longer be accepted. Set `keepdims` to True or False to avoid this warning.\n",
      "  mode = stats.mode(array)\n"
     ]
    },
    {
     "name": "stdout",
     "output_type": "stream",
     "text": [
      "[CV] END models=LinearRegression(), preprocessor__num=passthrough; total time=   0.3s\n",
      "[CV] END models=LinearRegression(), preprocessor__num=passthrough; total time=   0.3s\n"
     ]
    },
    {
     "name": "stderr",
     "output_type": "stream",
     "text": [
      "/opt/conda/lib/python3.9/site-packages/sklearn/impute/_base.py:49: FutureWarning: Unlike other reduction functions (e.g. `skew`, `kurtosis`), the default behavior of `mode` typically preserves the axis it acts along. In SciPy 1.11.0, this behavior will change: the default value of `keepdims` will become False, the `axis` over which the statistic is taken will be eliminated, and the value None will no longer be accepted. Set `keepdims` to True or False to avoid this warning.\n",
      "  mode = stats.mode(array)\n",
      "/opt/conda/lib/python3.9/site-packages/sklearn/impute/_base.py:49: FutureWarning: Unlike other reduction functions (e.g. `skew`, `kurtosis`), the default behavior of `mode` typically preserves the axis it acts along. In SciPy 1.11.0, this behavior will change: the default value of `keepdims` will become False, the `axis` over which the statistic is taken will be eliminated, and the value None will no longer be accepted. Set `keepdims` to True or False to avoid this warning.\n",
      "  mode = stats.mode(array)\n"
     ]
    },
    {
     "name": "stdout",
     "output_type": "stream",
     "text": [
      "[CV] END models=LinearRegression(), preprocessor__num=passthrough; total time=   0.3s\n"
     ]
    },
    {
     "name": "stderr",
     "output_type": "stream",
     "text": [
      "/opt/conda/lib/python3.9/site-packages/sklearn/impute/_base.py:49: FutureWarning: Unlike other reduction functions (e.g. `skew`, `kurtosis`), the default behavior of `mode` typically preserves the axis it acts along. In SciPy 1.11.0, this behavior will change: the default value of `keepdims` will become False, the `axis` over which the statistic is taken will be eliminated, and the value None will no longer be accepted. Set `keepdims` to True or False to avoid this warning.\n",
      "  mode = stats.mode(array)\n"
     ]
    },
    {
     "name": "stdout",
     "output_type": "stream",
     "text": [
      "Лучшие гиперпараметры: {'models': RandomForestRegressor(max_depth=5, random_state=42), 'models__max_depth': 5, 'models__n_estimators': 100, 'preprocessor__num': 'passthrough'}\n",
      "Метрика лучшей модели на кросс-валидации: 27.756048424808107\n"
     ]
    }
   ],
   "source": [
    "grid_search.fit(X_train, y_train)\n",
    "    \n",
    "print(f\"Лучшие гиперпараметры: {grid_search.best_params_}\")\n",
    "print (f'Метрика лучшей модели на кросс-валидации: {grid_search.best_score_}')"
   ]
  },
  {
   "cell_type": "markdown",
   "metadata": {},
   "source": [
    "Лучше всего по метрике RMSE (которая явно получилась менее 48) работает модель RandomForestRegressor(max_depth=5, random_state=42), 'models__max_depth': 5, 'models__n_estimators': 100, 'preprocessor__num': 'passthrough'}.\n",
    "\n",
    "Метрика RMSE лучшей модели на кросс-валидации: 27.8"
   ]
  },
  {
   "cell_type": "markdown",
   "metadata": {},
   "source": [
    "## Тестирование"
   ]
  },
  {
   "cell_type": "code",
   "execution_count": 21,
   "metadata": {},
   "outputs": [
    {
     "name": "stdout",
     "output_type": "stream",
     "text": [
      "RMSE модели линейной регрессии равна 47.872663975953635\n"
     ]
    }
   ],
   "source": [
    "y_pred = grid_search.best_estimator_.predict(X_test)\n",
    "\n",
    "rmse = mean_squared_error(y_test, y_pred, squared=False)\n",
    "print(f'RMSE модели линейной регрессии равна {rmse}')"
   ]
  },
  {
   "cell_type": "markdown",
   "metadata": {},
   "source": [
    "На тестовых данных модель тоже справилась удачно: метрика RMSE = 47.87 < 48."
   ]
  },
  {
   "cell_type": "markdown",
   "metadata": {},
   "source": [
    "Посмотрим на графиках, как выглядит распределение реальных значений и предсказанных."
   ]
  },
  {
   "cell_type": "code",
   "execution_count": 25,
   "metadata": {},
   "outputs": [
    {
     "data": {
      "image/png": "[encoded data removed]",
      "text/plain": [
       "<Figure size 432x288 with 1 Axes>"
      ]
     },
     "metadata": {
      "needs_background": "light"
     },
     "output_type": "display_data"
    }
   ],
   "source": [
    "X_test['pred'] = y_pred\n",
    "X_test['real'] = y_test\n",
    "\n",
    "fig, ax = plt.subplots()\n",
    "plt.title('Comparison of predicted and real values')\n",
    "X_test['real'].plot(ax=ax, legend='real')\n",
    "X_test['pred'].plot(ax=ax, legend='pred')\n",
    "plt.show()"
   ]
  },
  {
   "cell_type": "code",
   "execution_count": 23,
   "metadata": {},
   "outputs": [
    {
     "name": "stdout",
     "output_type": "stream",
     "text": [
      "Model rmse = 84.6499381993622\n"
     ]
    }
   ],
   "source": [
    "dummy_model = DummyRegressor(strategy='mean')\n",
    "dummy_model.fit(X_train, y_train)\n",
    "\n",
    "# предсказание на тестовых данных\n",
    "dummy_model_preds = dummy_model.predict(X_test)\n",
    "\n",
    "# оценка качества модели по метрике accuracy\n",
    "dummy = mean_squared_error(y_test, dummy_model_preds, squared=False)\n",
    "print('Model rmse =', dummy)"
   ]
  },
  {
   "cell_type": "markdown",
   "metadata": {},
   "source": [
    "Метрика почти в два раза больше \"нормы\", значит, работа с моделями была проделана не зря)"
   ]
  },
  {
   "cell_type": "markdown",
   "metadata": {},
   "source": [
    "## Вывод"
   ]
  },
  {
   "cell_type": "markdown",
   "metadata": {},
   "source": [
    "В ходе работы мы:\n",
    "\n",
    "- Загрузили данные и выполнили их ресемплирование по часу\n",
    "\n",
    "- Выявилить тренд и сезонность\n",
    "\n",
    "- Привели их стационарному виду\n",
    "\n",
    "- Обучили разные модели для прогнозирования с разными гипермараметрами : по метрике лучшей оказалась модель линейной регресси\n"
   ]
  }
 ],
 "metadata": {
  "ExecuteTimeLog": [
   {
    "duration": 1095,
    "start_time": "2024-11-22T17:01:06.480Z"
   },
   {
    "duration": 67,
    "start_time": "2024-11-22T17:01:07.577Z"
   },
   {
    "duration": 1153,
    "start_time": "2024-11-22T17:10:18.609Z"
   },
   {
    "duration": 68,
    "start_time": "2024-11-22T17:10:19.764Z"
   },
   {
    "duration": 105,
    "start_time": "2024-11-22T17:10:50.647Z"
   },
   {
    "duration": 59,
    "start_time": "2024-11-22T17:11:05.271Z"
   },
   {
    "duration": 49,
    "start_time": "2024-11-22T17:11:21.926Z"
   },
   {
    "duration": 52,
    "start_time": "2024-11-22T17:11:58.839Z"
   },
   {
    "duration": 53,
    "start_time": "2024-11-22T17:12:08.482Z"
   },
   {
    "duration": 3,
    "start_time": "2024-11-22T17:13:18.339Z"
   },
   {
    "duration": 101,
    "start_time": "2024-11-22T17:15:33.680Z"
   },
   {
    "duration": 9,
    "start_time": "2024-11-22T17:15:58.285Z"
   },
   {
    "duration": 9,
    "start_time": "2024-11-22T17:16:30.124Z"
   },
   {
    "duration": 1053,
    "start_time": "2024-11-22T17:16:36.393Z"
   },
   {
    "duration": 57,
    "start_time": "2024-11-22T17:16:37.448Z"
   },
   {
    "duration": 101,
    "start_time": "2024-11-22T17:16:37.506Z"
   },
   {
    "duration": 0,
    "start_time": "2024-11-22T17:16:37.608Z"
   },
   {
    "duration": 7,
    "start_time": "2024-11-22T17:17:00.932Z"
   },
   {
    "duration": 48,
    "start_time": "2024-11-22T17:17:05.752Z"
   },
   {
    "duration": 4,
    "start_time": "2024-11-22T17:17:06.764Z"
   },
   {
    "duration": 5,
    "start_time": "2024-11-22T17:17:08.420Z"
   },
   {
    "duration": 383,
    "start_time": "2024-11-22T17:18:17.392Z"
   },
   {
    "duration": 26,
    "start_time": "2024-11-22T17:18:20.261Z"
   },
   {
    "duration": 1195,
    "start_time": "2024-11-22T17:18:26.361Z"
   },
   {
    "duration": 55,
    "start_time": "2024-11-22T17:18:27.559Z"
   },
   {
    "duration": 4,
    "start_time": "2024-11-22T17:18:27.615Z"
   },
   {
    "duration": 1294,
    "start_time": "2024-11-22T17:19:22.893Z"
   },
   {
    "duration": 53,
    "start_time": "2024-11-22T17:19:24.189Z"
   },
   {
    "duration": 5,
    "start_time": "2024-11-22T17:19:24.244Z"
   },
   {
    "duration": 1282,
    "start_time": "2024-11-22T17:20:22.350Z"
   },
   {
    "duration": 53,
    "start_time": "2024-11-22T17:20:23.634Z"
   },
   {
    "duration": 4,
    "start_time": "2024-11-22T17:20:23.689Z"
   },
   {
    "duration": 1241,
    "start_time": "2024-11-22T17:21:12.916Z"
   },
   {
    "duration": 55,
    "start_time": "2024-11-22T17:21:14.158Z"
   },
   {
    "duration": 4,
    "start_time": "2024-11-22T17:21:14.214Z"
   },
   {
    "duration": 5,
    "start_time": "2024-11-22T17:21:14.220Z"
   },
   {
    "duration": 107,
    "start_time": "2024-11-22T17:23:03.413Z"
   },
   {
    "duration": 8,
    "start_time": "2024-11-22T17:23:28.865Z"
   },
   {
    "duration": 48,
    "start_time": "2024-11-22T17:23:31.821Z"
   },
   {
    "duration": 3,
    "start_time": "2024-11-22T17:23:32.493Z"
   },
   {
    "duration": 3,
    "start_time": "2024-11-22T17:23:33.585Z"
   },
   {
    "duration": 10,
    "start_time": "2024-11-22T17:23:36.206Z"
   },
   {
    "duration": 9,
    "start_time": "2024-11-22T17:24:05.005Z"
   },
   {
    "duration": 1242,
    "start_time": "2024-11-22T17:24:12.446Z"
   },
   {
    "duration": 53,
    "start_time": "2024-11-22T17:24:13.690Z"
   },
   {
    "duration": 4,
    "start_time": "2024-11-22T17:24:13.744Z"
   },
   {
    "duration": 9,
    "start_time": "2024-11-22T17:24:13.749Z"
   },
   {
    "duration": 222,
    "start_time": "2024-11-22T17:24:13.759Z"
   },
   {
    "duration": 217,
    "start_time": "2024-11-22T17:24:23.005Z"
   },
   {
    "duration": 1302,
    "start_time": "2024-11-22T17:24:38.069Z"
   },
   {
    "duration": 54,
    "start_time": "2024-11-22T17:24:39.372Z"
   },
   {
    "duration": 63,
    "start_time": "2024-11-22T17:24:39.427Z"
   },
   {
    "duration": 115,
    "start_time": "2024-11-22T17:24:39.492Z"
   },
   {
    "duration": 191,
    "start_time": "2024-11-22T17:24:39.609Z"
   },
   {
    "duration": 14,
    "start_time": "2024-11-22T17:25:25.164Z"
   },
   {
    "duration": 1188,
    "start_time": "2024-11-22T17:25:31.954Z"
   },
   {
    "duration": 55,
    "start_time": "2024-11-22T17:25:33.144Z"
   },
   {
    "duration": 3,
    "start_time": "2024-11-22T17:25:33.201Z"
   },
   {
    "duration": 36,
    "start_time": "2024-11-22T17:25:33.205Z"
   },
   {
    "duration": 118,
    "start_time": "2024-11-22T17:25:33.243Z"
   },
   {
    "duration": 1215,
    "start_time": "2024-11-22T17:25:46.642Z"
   },
   {
    "duration": 53,
    "start_time": "2024-11-22T17:25:47.859Z"
   },
   {
    "duration": 4,
    "start_time": "2024-11-22T17:25:47.913Z"
   },
   {
    "duration": 13,
    "start_time": "2024-11-22T17:25:47.918Z"
   },
   {
    "duration": 100,
    "start_time": "2024-11-22T17:25:47.933Z"
   },
   {
    "duration": 8,
    "start_time": "2024-11-22T17:25:59.942Z"
   },
   {
    "duration": 49,
    "start_time": "2024-11-22T17:26:06.163Z"
   },
   {
    "duration": 2,
    "start_time": "2024-11-22T17:26:06.812Z"
   },
   {
    "duration": 6,
    "start_time": "2024-11-22T17:26:07.262Z"
   },
   {
    "duration": 236,
    "start_time": "2024-11-22T17:26:09.071Z"
   },
   {
    "duration": 23,
    "start_time": "2024-11-22T17:27:27.819Z"
   },
   {
    "duration": 15,
    "start_time": "2024-11-22T17:28:21.710Z"
   },
   {
    "duration": 9,
    "start_time": "2024-11-22T17:28:35.022Z"
   },
   {
    "duration": 10,
    "start_time": "2024-11-22T17:29:25.670Z"
   },
   {
    "duration": 6,
    "start_time": "2024-11-22T17:29:42.182Z"
   },
   {
    "duration": 20,
    "start_time": "2024-11-22T17:29:46.781Z"
   },
   {
    "duration": 1289,
    "start_time": "2024-11-22T17:29:59.622Z"
   },
   {
    "duration": 66,
    "start_time": "2024-11-22T17:30:00.913Z"
   },
   {
    "duration": 3,
    "start_time": "2024-11-22T17:30:00.981Z"
   },
   {
    "duration": 36,
    "start_time": "2024-11-22T17:30:00.985Z"
   },
   {
    "duration": 284,
    "start_time": "2024-11-22T17:30:01.023Z"
   },
   {
    "duration": 117,
    "start_time": "2024-11-22T17:30:01.308Z"
   },
   {
    "duration": 218,
    "start_time": "2024-11-22T17:30:36.210Z"
   },
   {
    "duration": 10,
    "start_time": "2024-11-22T17:30:36.902Z"
   },
   {
    "duration": 10,
    "start_time": "2024-11-22T17:30:57.663Z"
   },
   {
    "duration": 7,
    "start_time": "2024-11-22T17:31:34.582Z"
   },
   {
    "duration": 28,
    "start_time": "2024-11-22T17:31:35.703Z"
   },
   {
    "duration": 6,
    "start_time": "2024-11-22T17:32:27.943Z"
   },
   {
    "duration": 16,
    "start_time": "2024-11-22T17:32:31.363Z"
   },
   {
    "duration": 95,
    "start_time": "2024-11-22T17:33:02.391Z"
   },
   {
    "duration": 16,
    "start_time": "2024-11-22T17:33:08.842Z"
   },
   {
    "duration": 15,
    "start_time": "2024-11-22T17:33:58.204Z"
   },
   {
    "duration": 13,
    "start_time": "2024-11-22T17:34:25.243Z"
   },
   {
    "duration": 16,
    "start_time": "2024-11-22T17:34:48.423Z"
   },
   {
    "duration": 5,
    "start_time": "2024-11-22T17:34:56.302Z"
   },
   {
    "duration": 15,
    "start_time": "2024-11-22T17:34:58.030Z"
   },
   {
    "duration": 1259,
    "start_time": "2024-11-22T17:35:09.125Z"
   },
   {
    "duration": 53,
    "start_time": "2024-11-22T17:35:10.386Z"
   },
   {
    "duration": 2,
    "start_time": "2024-11-22T17:35:10.441Z"
   },
   {
    "duration": 37,
    "start_time": "2024-11-22T17:35:10.445Z"
   },
   {
    "duration": 521,
    "start_time": "2024-11-22T17:35:10.483Z"
   },
   {
    "duration": 567,
    "start_time": "2024-11-22T17:35:25.162Z"
   },
   {
    "duration": 627,
    "start_time": "2024-11-22T17:35:45.586Z"
   },
   {
    "duration": 6,
    "start_time": "2024-11-22T17:36:53.458Z"
   },
   {
    "duration": 151,
    "start_time": "2024-11-22T17:42:48.286Z"
   },
   {
    "duration": 149,
    "start_time": "2024-11-22T17:42:56.567Z"
   },
   {
    "duration": 130,
    "start_time": "2024-11-22T17:43:34.246Z"
   },
   {
    "duration": 1023,
    "start_time": "2024-11-22T17:47:18.506Z"
   },
   {
    "duration": 330,
    "start_time": "2024-11-22T17:48:52.289Z"
   },
   {
    "duration": 223,
    "start_time": "2024-11-22T17:49:00.186Z"
   },
   {
    "duration": 242,
    "start_time": "2024-11-22T17:51:25.086Z"
   },
   {
    "duration": 1278,
    "start_time": "2024-11-22T17:51:39.403Z"
   },
   {
    "duration": 59,
    "start_time": "2024-11-22T17:51:40.682Z"
   },
   {
    "duration": 7,
    "start_time": "2024-11-22T17:51:40.742Z"
   },
   {
    "duration": 17,
    "start_time": "2024-11-22T17:51:40.750Z"
   },
   {
    "duration": 14,
    "start_time": "2024-11-22T17:51:40.768Z"
   },
   {
    "duration": 692,
    "start_time": "2024-11-22T17:51:40.784Z"
   },
   {
    "duration": 145,
    "start_time": "2024-11-22T17:51:41.477Z"
   },
   {
    "duration": 247,
    "start_time": "2024-11-22T17:51:41.623Z"
   },
   {
    "duration": 243,
    "start_time": "2024-11-22T17:51:41.871Z"
   },
   {
    "duration": 257,
    "start_time": "2024-11-22T17:56:09.483Z"
   },
   {
    "duration": 4,
    "start_time": "2024-11-22T18:08:45.882Z"
   },
   {
    "duration": 69,
    "start_time": "2024-11-22T18:09:49.783Z"
   },
   {
    "duration": 2867,
    "start_time": "2024-11-22T18:19:46.402Z"
   },
   {
    "duration": 52,
    "start_time": "2024-11-22T18:19:49.271Z"
   },
   {
    "duration": 3,
    "start_time": "2024-11-22T18:21:09.351Z"
   },
   {
    "duration": 3,
    "start_time": "2024-11-22T18:22:29.335Z"
   },
   {
    "duration": 2621,
    "start_time": "2024-11-22T18:22:52.884Z"
   },
   {
    "duration": 1406,
    "start_time": "2024-11-22T18:22:55.508Z"
   },
   {
    "duration": 55,
    "start_time": "2024-11-22T18:22:56.915Z"
   },
   {
    "duration": 6,
    "start_time": "2024-11-22T18:22:56.972Z"
   },
   {
    "duration": 17,
    "start_time": "2024-11-22T18:22:56.980Z"
   },
   {
    "duration": 14,
    "start_time": "2024-11-22T18:22:56.999Z"
   },
   {
    "duration": 639,
    "start_time": "2024-11-22T18:22:57.014Z"
   },
   {
    "duration": 220,
    "start_time": "2024-11-22T18:22:57.654Z"
   },
   {
    "duration": 191,
    "start_time": "2024-11-22T18:22:57.875Z"
   },
   {
    "duration": 268,
    "start_time": "2024-11-22T18:22:58.067Z"
   },
   {
    "duration": 1080,
    "start_time": "2024-11-22T18:22:58.337Z"
   },
   {
    "duration": 0,
    "start_time": "2024-11-22T18:22:59.418Z"
   },
   {
    "duration": 0,
    "start_time": "2024-11-22T18:22:59.420Z"
   },
   {
    "duration": 10,
    "start_time": "2024-11-22T18:23:22.191Z"
   },
   {
    "duration": 8,
    "start_time": "2024-11-22T18:23:24.364Z"
   },
   {
    "duration": 15,
    "start_time": "2024-11-22T18:23:25.396Z"
   },
   {
    "duration": 14,
    "start_time": "2024-11-22T18:23:56.172Z"
   },
   {
    "duration": 59,
    "start_time": "2024-11-22T18:28:55.967Z"
   },
   {
    "duration": 11,
    "start_time": "2024-11-22T18:29:08.291Z"
   },
   {
    "duration": 237951,
    "start_time": "2024-11-22T18:30:11.563Z"
   },
   {
    "duration": 6891,
    "start_time": "2024-11-22T18:35:38.184Z"
   },
   {
    "duration": 11262,
    "start_time": "2024-11-22T18:35:47.919Z"
   },
   {
    "duration": 11448,
    "start_time": "2024-11-22T18:36:30.444Z"
   },
   {
    "duration": 12,
    "start_time": "2024-11-22T18:38:48.643Z"
   },
   {
    "duration": 12,
    "start_time": "2024-11-22T18:41:14.636Z"
   },
   {
    "duration": 1175,
    "start_time": "2024-11-22T18:41:46.131Z"
   },
   {
    "duration": 688,
    "start_time": "2024-11-22T18:41:58.303Z"
   },
   {
    "duration": 88,
    "start_time": "2024-11-22T18:42:23.503Z"
   },
   {
    "duration": 358,
    "start_time": "2024-11-22T18:43:29.607Z"
   },
   {
    "duration": 370,
    "start_time": "2024-11-22T18:44:07.552Z"
   },
   {
    "duration": 365,
    "start_time": "2024-11-22T18:44:17.552Z"
   },
   {
    "duration": 457,
    "start_time": "2024-11-22T18:44:43.603Z"
   },
   {
    "duration": 476,
    "start_time": "2024-11-22T18:44:52.491Z"
   },
   {
    "duration": 7,
    "start_time": "2024-11-22T18:47:11.632Z"
   },
   {
    "duration": 2578,
    "start_time": "2024-11-22T18:49:25.743Z"
   },
   {
    "duration": 1341,
    "start_time": "2024-11-22T18:49:28.324Z"
   },
   {
    "duration": 58,
    "start_time": "2024-11-22T18:49:29.666Z"
   },
   {
    "duration": 5,
    "start_time": "2024-11-22T18:49:29.726Z"
   },
   {
    "duration": 5,
    "start_time": "2024-11-22T18:49:29.733Z"
   },
   {
    "duration": 17,
    "start_time": "2024-11-22T18:49:29.739Z"
   },
   {
    "duration": 614,
    "start_time": "2024-11-22T18:49:29.757Z"
   },
   {
    "duration": 193,
    "start_time": "2024-11-22T18:49:30.373Z"
   },
   {
    "duration": 187,
    "start_time": "2024-11-22T18:49:30.568Z"
   },
   {
    "duration": 267,
    "start_time": "2024-11-22T18:49:30.757Z"
   },
   {
    "duration": 10,
    "start_time": "2024-11-22T18:49:31.025Z"
   },
   {
    "duration": 9,
    "start_time": "2024-11-22T18:49:31.037Z"
   },
   {
    "duration": 11068,
    "start_time": "2024-11-22T18:49:31.048Z"
   },
   {
    "duration": 12,
    "start_time": "2024-11-22T18:49:42.118Z"
   },
   {
    "duration": 450,
    "start_time": "2024-11-22T18:49:42.131Z"
   },
   {
    "duration": 734,
    "start_time": "2024-11-22T18:50:51.806Z"
   },
   {
    "duration": 2552,
    "start_time": "2024-11-22T18:51:04.891Z"
   },
   {
    "duration": 1283,
    "start_time": "2024-11-22T18:51:07.446Z"
   },
   {
    "duration": 53,
    "start_time": "2024-11-22T18:51:08.730Z"
   },
   {
    "duration": 6,
    "start_time": "2024-11-22T18:51:08.785Z"
   },
   {
    "duration": 4,
    "start_time": "2024-11-22T18:51:08.792Z"
   },
   {
    "duration": 15,
    "start_time": "2024-11-22T18:51:08.797Z"
   },
   {
    "duration": 666,
    "start_time": "2024-11-22T18:51:08.814Z"
   },
   {
    "duration": 215,
    "start_time": "2024-11-22T18:51:09.481Z"
   },
   {
    "duration": 189,
    "start_time": "2024-11-22T18:51:09.697Z"
   },
   {
    "duration": 268,
    "start_time": "2024-11-22T18:51:09.887Z"
   },
   {
    "duration": 12,
    "start_time": "2024-11-22T18:51:10.157Z"
   },
   {
    "duration": 15,
    "start_time": "2024-11-22T18:51:10.171Z"
   },
   {
    "duration": 11046,
    "start_time": "2024-11-22T18:51:10.188Z"
   },
   {
    "duration": 13,
    "start_time": "2024-11-22T18:51:21.237Z"
   },
   {
    "duration": 494,
    "start_time": "2024-11-22T18:51:21.251Z"
   },
   {
    "duration": 3021,
    "start_time": "2024-11-22T19:54:28.859Z"
   },
   {
    "duration": 1337,
    "start_time": "2024-11-22T19:54:31.882Z"
   },
   {
    "duration": 75,
    "start_time": "2024-11-22T19:54:33.221Z"
   },
   {
    "duration": 8,
    "start_time": "2024-11-22T19:54:33.297Z"
   },
   {
    "duration": 10,
    "start_time": "2024-11-22T19:54:33.307Z"
   },
   {
    "duration": 12,
    "start_time": "2024-11-22T19:54:33.319Z"
   },
   {
    "duration": 760,
    "start_time": "2024-11-22T19:54:33.333Z"
   },
   {
    "duration": 166,
    "start_time": "2024-11-22T19:54:34.095Z"
   },
   {
    "duration": 299,
    "start_time": "2024-11-22T19:54:34.266Z"
   },
   {
    "duration": 324,
    "start_time": "2024-11-22T19:54:34.566Z"
   },
   {
    "duration": 17,
    "start_time": "2024-11-22T19:54:34.892Z"
   },
   {
    "duration": 9,
    "start_time": "2024-11-22T19:54:34.912Z"
   },
   {
    "duration": 11436,
    "start_time": "2024-11-22T19:54:34.923Z"
   },
   {
    "duration": 12,
    "start_time": "2024-11-22T19:54:46.364Z"
   },
   {
    "duration": 535,
    "start_time": "2024-11-22T19:54:46.377Z"
   },
   {
    "duration": 1497,
    "start_time": "2024-11-22T21:24:38.423Z"
   },
   {
    "duration": 100,
    "start_time": "2024-11-22T21:24:58.470Z"
   },
   {
    "duration": 50,
    "start_time": "2024-11-22T21:25:07.119Z"
   },
   {
    "duration": 104,
    "start_time": "2024-11-22T21:26:53.379Z"
   },
   {
    "duration": 3,
    "start_time": "2024-11-22T21:27:08.594Z"
   },
   {
    "duration": 8,
    "start_time": "2024-11-22T21:27:09.210Z"
   },
   {
    "duration": 656,
    "start_time": "2024-11-22T21:27:13.039Z"
   },
   {
    "duration": 179,
    "start_time": "2024-11-22T21:27:17.374Z"
   },
   {
    "duration": 268,
    "start_time": "2024-11-22T21:33:02.254Z"
   },
   {
    "duration": 257,
    "start_time": "2024-11-22T21:35:34.933Z"
   },
   {
    "duration": 279,
    "start_time": "2024-11-22T21:38:17.106Z"
   },
   {
    "duration": 15,
    "start_time": "2024-11-22T21:43:21.661Z"
   },
   {
    "duration": 5,
    "start_time": "2024-11-22T21:45:26.937Z"
   },
   {
    "duration": 13,
    "start_time": "2024-11-22T21:45:57.069Z"
   },
   {
    "duration": 11,
    "start_time": "2024-11-22T21:47:06.344Z"
   },
   {
    "duration": 2880,
    "start_time": "2024-11-22T21:47:13.782Z"
   },
   {
    "duration": 1252,
    "start_time": "2024-11-22T21:47:16.664Z"
   },
   {
    "duration": 52,
    "start_time": "2024-11-22T21:47:17.918Z"
   },
   {
    "duration": 5,
    "start_time": "2024-11-22T21:47:17.972Z"
   },
   {
    "duration": 2,
    "start_time": "2024-11-22T21:47:17.980Z"
   },
   {
    "duration": 8,
    "start_time": "2024-11-22T21:47:17.984Z"
   },
   {
    "duration": 6,
    "start_time": "2024-11-22T21:47:17.993Z"
   },
   {
    "duration": 733,
    "start_time": "2024-11-22T21:47:18.000Z"
   },
   {
    "duration": 145,
    "start_time": "2024-11-22T21:47:18.735Z"
   },
   {
    "duration": 114,
    "start_time": "2024-11-22T21:47:18.882Z"
   },
   {
    "duration": 0,
    "start_time": "2024-11-22T21:47:18.998Z"
   },
   {
    "duration": 0,
    "start_time": "2024-11-22T21:47:18.998Z"
   },
   {
    "duration": 0,
    "start_time": "2024-11-22T21:47:18.999Z"
   },
   {
    "duration": 0,
    "start_time": "2024-11-22T21:47:19.000Z"
   },
   {
    "duration": 0,
    "start_time": "2024-11-22T21:47:19.001Z"
   },
   {
    "duration": 0,
    "start_time": "2024-11-22T21:47:19.012Z"
   },
   {
    "duration": 0,
    "start_time": "2024-11-22T21:47:19.012Z"
   },
   {
    "duration": 2,
    "start_time": "2024-11-22T21:49:42.500Z"
   },
   {
    "duration": 6,
    "start_time": "2024-11-22T21:49:51.888Z"
   },
   {
    "duration": 11,
    "start_time": "2024-11-22T21:49:58.440Z"
   },
   {
    "duration": 2579,
    "start_time": "2024-11-22T21:50:06.629Z"
   },
   {
    "duration": 1293,
    "start_time": "2024-11-22T21:50:09.210Z"
   },
   {
    "duration": 51,
    "start_time": "2024-11-22T21:50:10.504Z"
   },
   {
    "duration": 6,
    "start_time": "2024-11-22T21:50:10.557Z"
   },
   {
    "duration": 7,
    "start_time": "2024-11-22T21:50:10.564Z"
   },
   {
    "duration": 8,
    "start_time": "2024-11-22T21:50:10.573Z"
   },
   {
    "duration": 14,
    "start_time": "2024-11-22T21:50:10.582Z"
   },
   {
    "duration": 648,
    "start_time": "2024-11-22T21:50:10.597Z"
   },
   {
    "duration": 204,
    "start_time": "2024-11-22T21:50:11.247Z"
   },
   {
    "duration": 132,
    "start_time": "2024-11-22T21:50:11.453Z"
   },
   {
    "duration": 0,
    "start_time": "2024-11-22T21:50:11.586Z"
   },
   {
    "duration": 0,
    "start_time": "2024-11-22T21:50:11.588Z"
   },
   {
    "duration": 0,
    "start_time": "2024-11-22T21:50:11.589Z"
   },
   {
    "duration": 0,
    "start_time": "2024-11-22T21:50:11.590Z"
   },
   {
    "duration": 0,
    "start_time": "2024-11-22T21:50:11.592Z"
   },
   {
    "duration": 0,
    "start_time": "2024-11-22T21:50:11.593Z"
   },
   {
    "duration": 0,
    "start_time": "2024-11-22T21:50:11.595Z"
   },
   {
    "duration": 45,
    "start_time": "2024-11-22T21:51:32.141Z"
   },
   {
    "duration": 6,
    "start_time": "2024-11-22T21:51:33.821Z"
   },
   {
    "duration": 9,
    "start_time": "2024-11-22T21:51:36.268Z"
   },
   {
    "duration": 5,
    "start_time": "2024-11-22T21:51:37.457Z"
   },
   {
    "duration": 576,
    "start_time": "2024-11-22T21:51:42.490Z"
   },
   {
    "duration": 10,
    "start_time": "2024-11-22T21:51:50.358Z"
   },
   {
    "duration": 10,
    "start_time": "2024-11-22T21:52:20.181Z"
   },
   {
    "duration": 8,
    "start_time": "2024-11-22T21:52:46.010Z"
   },
   {
    "duration": 5,
    "start_time": "2024-11-22T21:53:33.593Z"
   },
   {
    "duration": 5,
    "start_time": "2024-11-22T21:53:35.017Z"
   },
   {
    "duration": 6,
    "start_time": "2024-11-22T21:53:40.361Z"
   },
   {
    "duration": 48,
    "start_time": "2024-11-22T21:53:49.953Z"
   },
   {
    "duration": 6,
    "start_time": "2024-11-22T21:53:51.353Z"
   },
   {
    "duration": 6,
    "start_time": "2024-11-22T21:53:53.017Z"
   },
   {
    "duration": 6,
    "start_time": "2024-11-22T21:53:55.161Z"
   },
   {
    "duration": 7,
    "start_time": "2024-11-22T21:54:18.314Z"
   },
   {
    "duration": 570,
    "start_time": "2024-11-22T21:54:59.321Z"
   },
   {
    "duration": 163,
    "start_time": "2024-11-22T21:55:48.725Z"
   },
   {
    "duration": 9,
    "start_time": "2024-11-22T22:02:36.150Z"
   },
   {
    "duration": 17,
    "start_time": "2024-11-22T22:02:44.940Z"
   },
   {
    "duration": 12,
    "start_time": "2024-11-22T22:05:26.052Z"
   },
   {
    "duration": 6,
    "start_time": "2024-11-22T22:10:29.212Z"
   },
   {
    "duration": 4,
    "start_time": "2024-11-22T22:11:31.620Z"
   },
   {
    "duration": 8,
    "start_time": "2024-11-22T22:12:33.900Z"
   },
   {
    "duration": 11,
    "start_time": "2024-11-22T22:19:33.295Z"
   },
   {
    "duration": 4,
    "start_time": "2024-11-22T22:20:08.059Z"
   },
   {
    "duration": 3,
    "start_time": "2024-11-22T22:20:39.363Z"
   },
   {
    "duration": 4,
    "start_time": "2024-11-22T22:23:03.143Z"
   },
   {
    "duration": 8,
    "start_time": "2024-11-22T22:27:38.182Z"
   },
   {
    "duration": 9,
    "start_time": "2024-11-22T22:28:12.551Z"
   },
   {
    "duration": 3,
    "start_time": "2024-11-22T22:28:21.502Z"
   },
   {
    "duration": 10,
    "start_time": "2024-11-22T22:34:08.150Z"
   },
   {
    "duration": 14,
    "start_time": "2024-11-22T22:40:33.526Z"
   },
   {
    "duration": 9,
    "start_time": "2024-11-22T22:40:49.245Z"
   },
   {
    "duration": 10,
    "start_time": "2024-11-22T22:41:01.737Z"
   },
   {
    "duration": 3,
    "start_time": "2024-11-22T22:42:24.282Z"
   },
   {
    "duration": 3,
    "start_time": "2024-11-22T22:42:39.373Z"
   },
   {
    "duration": 3,
    "start_time": "2024-11-22T22:43:59.454Z"
   },
   {
    "duration": 3,
    "start_time": "2024-11-22T22:44:00.333Z"
   },
   {
    "duration": 71,
    "start_time": "2024-11-22T22:44:37.433Z"
   },
   {
    "duration": 4,
    "start_time": "2024-11-22T22:46:06.849Z"
   },
   {
    "duration": 3,
    "start_time": "2024-11-22T22:47:34.617Z"
   },
   {
    "duration": 12193,
    "start_time": "2024-11-22T22:47:38.093Z"
   },
   {
    "duration": 3,
    "start_time": "2024-11-22T22:48:25.363Z"
   },
   {
    "duration": 3,
    "start_time": "2024-11-22T22:48:28.390Z"
   },
   {
    "duration": 3,
    "start_time": "2024-11-22T22:48:37.989Z"
   },
   {
    "duration": 9225,
    "start_time": "2024-11-22T22:48:38.909Z"
   },
   {
    "duration": 2589,
    "start_time": "2024-11-22T22:48:57.212Z"
   },
   {
    "duration": 1322,
    "start_time": "2024-11-22T22:48:59.803Z"
   },
   {
    "duration": 52,
    "start_time": "2024-11-22T22:49:01.127Z"
   },
   {
    "duration": 6,
    "start_time": "2024-11-22T22:49:01.181Z"
   },
   {
    "duration": 10,
    "start_time": "2024-11-22T22:49:01.189Z"
   },
   {
    "duration": 6,
    "start_time": "2024-11-22T22:49:01.200Z"
   },
   {
    "duration": 697,
    "start_time": "2024-11-22T22:49:01.207Z"
   },
   {
    "duration": 138,
    "start_time": "2024-11-22T22:49:01.906Z"
   },
   {
    "duration": 591,
    "start_time": "2024-11-22T22:49:02.046Z"
   },
   {
    "duration": 191,
    "start_time": "2024-11-22T22:49:02.641Z"
   },
   {
    "duration": 214,
    "start_time": "2024-11-22T22:49:02.834Z"
   },
   {
    "duration": 287,
    "start_time": "2024-11-22T22:49:03.049Z"
   },
   {
    "duration": 17,
    "start_time": "2024-11-22T22:49:03.337Z"
   },
   {
    "duration": 103,
    "start_time": "2024-11-22T22:49:03.355Z"
   },
   {
    "duration": 12,
    "start_time": "2024-11-22T22:49:03.459Z"
   },
   {
    "duration": 25,
    "start_time": "2024-11-22T22:49:03.473Z"
   },
   {
    "duration": 29,
    "start_time": "2024-11-22T22:49:03.499Z"
   },
   {
    "duration": 8,
    "start_time": "2024-11-22T22:49:03.530Z"
   },
   {
    "duration": 14,
    "start_time": "2024-11-22T22:49:03.539Z"
   },
   {
    "duration": 8840,
    "start_time": "2024-11-22T22:49:03.554Z"
   },
   {
    "duration": 0,
    "start_time": "2024-11-22T22:49:12.396Z"
   },
   {
    "duration": 0,
    "start_time": "2024-11-22T22:49:12.397Z"
   },
   {
    "duration": 10,
    "start_time": "2024-11-22T22:49:55.805Z"
   },
   {
    "duration": 3,
    "start_time": "2024-11-22T22:49:57.305Z"
   },
   {
    "duration": 3,
    "start_time": "2024-11-22T22:49:57.933Z"
   },
   {
    "duration": 4,
    "start_time": "2024-11-22T22:49:58.521Z"
   },
   {
    "duration": 2,
    "start_time": "2024-11-22T22:49:59.701Z"
   },
   {
    "duration": 572,
    "start_time": "2024-11-22T22:50:00.733Z"
   },
   {
    "duration": 2,
    "start_time": "2024-11-22T22:50:20.465Z"
   },
   {
    "duration": 3,
    "start_time": "2024-11-22T22:50:22.496Z"
   },
   {
    "duration": 3,
    "start_time": "2024-11-22T22:50:23.164Z"
   },
   {
    "duration": 4,
    "start_time": "2024-11-22T22:50:23.856Z"
   },
   {
    "duration": 90408,
    "start_time": "2024-11-22T22:50:24.973Z"
   },
   {
    "duration": 3,
    "start_time": "2024-11-22T22:52:23.128Z"
   },
   {
    "duration": 3,
    "start_time": "2024-11-22T22:52:23.873Z"
   },
   {
    "duration": 53627,
    "start_time": "2024-11-22T22:52:26.572Z"
   },
   {
    "duration": 16,
    "start_time": "2024-11-22T22:57:29.312Z"
   },
   {
    "duration": 223,
    "start_time": "2024-11-22T22:58:02.932Z"
   },
   {
    "duration": 261,
    "start_time": "2024-11-22T22:58:26.280Z"
   },
   {
    "duration": 192,
    "start_time": "2024-11-22T23:00:41.104Z"
   },
   {
    "duration": 192,
    "start_time": "2024-11-22T23:00:59.520Z"
   },
   {
    "duration": 196,
    "start_time": "2024-11-22T23:02:12.956Z"
   },
   {
    "duration": 270,
    "start_time": "2024-11-22T23:03:17.398Z"
   },
   {
    "duration": 281,
    "start_time": "2024-11-22T23:03:36.704Z"
   },
   {
    "duration": 261,
    "start_time": "2024-11-22T23:03:57.967Z"
   },
   {
    "duration": 207,
    "start_time": "2024-11-22T23:04:12.400Z"
   },
   {
    "duration": 218,
    "start_time": "2024-11-22T23:04:24.068Z"
   },
   {
    "duration": 2640,
    "start_time": "2024-11-22T23:04:35.914Z"
   },
   {
    "duration": 1407,
    "start_time": "2024-11-22T23:04:38.556Z"
   },
   {
    "duration": 54,
    "start_time": "2024-11-22T23:04:39.964Z"
   },
   {
    "duration": 6,
    "start_time": "2024-11-22T23:04:40.020Z"
   },
   {
    "duration": 26,
    "start_time": "2024-11-22T23:04:40.027Z"
   },
   {
    "duration": 18,
    "start_time": "2024-11-22T23:04:40.055Z"
   },
   {
    "duration": 743,
    "start_time": "2024-11-22T23:04:40.075Z"
   },
   {
    "duration": 150,
    "start_time": "2024-11-22T23:04:40.820Z"
   },
   {
    "duration": 596,
    "start_time": "2024-11-22T23:04:40.971Z"
   },
   {
    "duration": 188,
    "start_time": "2024-11-22T23:04:41.570Z"
   },
   {
    "duration": 206,
    "start_time": "2024-11-22T23:04:41.760Z"
   },
   {
    "duration": 264,
    "start_time": "2024-11-22T23:04:41.967Z"
   },
   {
    "duration": 19,
    "start_time": "2024-11-22T23:04:42.232Z"
   },
   {
    "duration": 98,
    "start_time": "2024-11-22T23:04:42.252Z"
   },
   {
    "duration": 10,
    "start_time": "2024-11-22T23:04:42.351Z"
   },
   {
    "duration": 2,
    "start_time": "2024-11-22T23:04:42.363Z"
   },
   {
    "duration": 3,
    "start_time": "2024-11-22T23:04:42.367Z"
   },
   {
    "duration": 6,
    "start_time": "2024-11-22T23:04:42.371Z"
   },
   {
    "duration": 3,
    "start_time": "2024-11-22T23:04:42.379Z"
   },
   {
    "duration": 55077,
    "start_time": "2024-11-22T23:04:42.383Z"
   },
   {
    "duration": 15,
    "start_time": "2024-11-22T23:05:37.462Z"
   },
   {
    "duration": 213,
    "start_time": "2024-11-22T23:05:37.479Z"
   },
   {
    "duration": 228,
    "start_time": "2024-11-22T23:06:03.066Z"
   },
   {
    "duration": 273,
    "start_time": "2024-11-22T23:06:49.209Z"
   },
   {
    "duration": 182,
    "start_time": "2024-11-22T23:07:00.638Z"
   },
   {
    "duration": 197,
    "start_time": "2024-11-22T23:07:30.950Z"
   },
   {
    "duration": 198,
    "start_time": "2024-11-22T23:07:59.749Z"
   },
   {
    "duration": 196,
    "start_time": "2024-11-22T23:08:17.201Z"
   },
   {
    "duration": 116,
    "start_time": "2024-11-22T23:08:46.413Z"
   },
   {
    "duration": 2661,
    "start_time": "2024-11-22T23:08:55.395Z"
   },
   {
    "duration": 1265,
    "start_time": "2024-11-22T23:08:58.058Z"
   },
   {
    "duration": 55,
    "start_time": "2024-11-22T23:08:59.324Z"
   },
   {
    "duration": 5,
    "start_time": "2024-11-22T23:08:59.381Z"
   },
   {
    "duration": 13,
    "start_time": "2024-11-22T23:08:59.388Z"
   },
   {
    "duration": 5,
    "start_time": "2024-11-22T23:08:59.402Z"
   },
   {
    "duration": 707,
    "start_time": "2024-11-22T23:08:59.408Z"
   },
   {
    "duration": 143,
    "start_time": "2024-11-22T23:09:00.116Z"
   },
   {
    "duration": 592,
    "start_time": "2024-11-22T23:09:00.261Z"
   },
   {
    "duration": 175,
    "start_time": "2024-11-22T23:09:00.855Z"
   },
   {
    "duration": 200,
    "start_time": "2024-11-22T23:09:01.032Z"
   },
   {
    "duration": 280,
    "start_time": "2024-11-22T23:09:01.233Z"
   },
   {
    "duration": 18,
    "start_time": "2024-11-22T23:09:01.515Z"
   },
   {
    "duration": 104,
    "start_time": "2024-11-22T23:09:01.535Z"
   },
   {
    "duration": 9,
    "start_time": "2024-11-22T23:09:01.641Z"
   },
   {
    "duration": 5,
    "start_time": "2024-11-22T23:09:01.651Z"
   },
   {
    "duration": 10,
    "start_time": "2024-11-22T23:09:01.657Z"
   },
   {
    "duration": 15,
    "start_time": "2024-11-22T23:09:01.668Z"
   },
   {
    "duration": 13,
    "start_time": "2024-11-22T23:09:01.684Z"
   },
   {
    "duration": 54796,
    "start_time": "2024-11-22T23:09:01.698Z"
   },
   {
    "duration": 23,
    "start_time": "2024-11-22T23:09:56.495Z"
   },
   {
    "duration": 202,
    "start_time": "2024-11-22T23:09:56.519Z"
   },
   {
    "duration": 62,
    "start_time": "2024-11-22T23:11:33.488Z"
   },
   {
    "duration": 97,
    "start_time": "2024-11-22T23:14:53.799Z"
   },
   {
    "duration": 110,
    "start_time": "2024-11-22T23:14:59.927Z"
   },
   {
    "duration": 3,
    "start_time": "2024-11-22T23:15:39.551Z"
   },
   {
    "duration": 4,
    "start_time": "2024-11-22T23:15:49.691Z"
   },
   {
    "duration": 2586,
    "start_time": "2024-11-22T23:25:52.024Z"
   },
   {
    "duration": 1288,
    "start_time": "2024-11-22T23:25:54.612Z"
   },
   {
    "duration": 50,
    "start_time": "2024-11-22T23:25:55.903Z"
   },
   {
    "duration": 5,
    "start_time": "2024-11-22T23:25:55.955Z"
   },
   {
    "duration": 11,
    "start_time": "2024-11-22T23:25:55.961Z"
   },
   {
    "duration": 19,
    "start_time": "2024-11-22T23:25:55.973Z"
   },
   {
    "duration": 648,
    "start_time": "2024-11-22T23:25:55.993Z"
   },
   {
    "duration": 150,
    "start_time": "2024-11-22T23:25:56.642Z"
   },
   {
    "duration": 582,
    "start_time": "2024-11-22T23:25:56.795Z"
   },
   {
    "duration": 166,
    "start_time": "2024-11-22T23:25:57.379Z"
   },
   {
    "duration": 187,
    "start_time": "2024-11-22T23:25:57.547Z"
   },
   {
    "duration": 271,
    "start_time": "2024-11-22T23:25:57.735Z"
   },
   {
    "duration": 20,
    "start_time": "2024-11-22T23:25:58.007Z"
   },
   {
    "duration": 94,
    "start_time": "2024-11-22T23:25:58.029Z"
   },
   {
    "duration": 11,
    "start_time": "2024-11-22T23:25:58.125Z"
   },
   {
    "duration": 4,
    "start_time": "2024-11-22T23:25:58.137Z"
   },
   {
    "duration": 5,
    "start_time": "2024-11-22T23:25:58.142Z"
   },
   {
    "duration": 4,
    "start_time": "2024-11-22T23:25:58.149Z"
   },
   {
    "duration": 5,
    "start_time": "2024-11-22T23:25:58.155Z"
   },
   {
    "duration": 54225,
    "start_time": "2024-11-22T23:25:58.162Z"
   },
   {
    "duration": 14,
    "start_time": "2024-11-22T23:26:52.388Z"
   },
   {
    "duration": 205,
    "start_time": "2024-11-22T23:26:52.412Z"
   },
   {
    "duration": 5,
    "start_time": "2024-11-22T23:26:52.618Z"
   },
   {
    "duration": 2740,
    "start_time": "2024-11-23T11:03:20.465Z"
   },
   {
    "duration": 1515,
    "start_time": "2024-11-23T11:03:23.207Z"
   },
   {
    "duration": 166,
    "start_time": "2024-11-23T11:03:24.724Z"
   },
   {
    "duration": 6,
    "start_time": "2024-11-23T11:03:24.892Z"
   },
   {
    "duration": 9,
    "start_time": "2024-11-23T11:03:24.899Z"
   },
   {
    "duration": 5,
    "start_time": "2024-11-23T11:03:24.910Z"
   },
   {
    "duration": 871,
    "start_time": "2024-11-23T11:03:24.916Z"
   },
   {
    "duration": 169,
    "start_time": "2024-11-23T11:03:25.789Z"
   },
   {
    "duration": 687,
    "start_time": "2024-11-23T11:03:25.959Z"
   },
   {
    "duration": 196,
    "start_time": "2024-11-23T11:03:26.649Z"
   },
   {
    "duration": 250,
    "start_time": "2024-11-23T11:03:26.847Z"
   },
   {
    "duration": 307,
    "start_time": "2024-11-23T11:03:27.099Z"
   },
   {
    "duration": 20,
    "start_time": "2024-11-23T11:03:27.408Z"
   },
   {
    "duration": 154,
    "start_time": "2024-11-23T11:03:27.429Z"
   },
   {
    "duration": 10,
    "start_time": "2024-11-23T11:03:27.585Z"
   },
   {
    "duration": 3,
    "start_time": "2024-11-23T11:03:27.596Z"
   },
   {
    "duration": 16,
    "start_time": "2024-11-23T11:03:27.601Z"
   },
   {
    "duration": 5,
    "start_time": "2024-11-23T11:03:27.618Z"
   },
   {
    "duration": 17,
    "start_time": "2024-11-23T11:03:27.624Z"
   },
   {
    "duration": 51268,
    "start_time": "2024-11-23T11:03:27.643Z"
   },
   {
    "duration": 18,
    "start_time": "2024-11-23T11:04:18.913Z"
   },
   {
    "duration": 223,
    "start_time": "2024-11-23T11:04:18.933Z"
   },
   {
    "duration": 14,
    "start_time": "2024-11-23T11:04:19.157Z"
   },
   {
    "duration": 189,
    "start_time": "2024-11-23T11:05:28.337Z"
   },
   {
    "duration": 216,
    "start_time": "2024-11-23T11:06:26.416Z"
   }
  ],
  "kernelspec": {
   "display_name": "Python [conda env:base] *",
   "language": "python",
   "name": "conda-base-py"
  },
  "language_info": {
   "codemirror_mode": {
    "name": "ipython",
    "version": 3
   },
   "file_extension": ".py",
   "mimetype": "text/x-python",
   "name": "python",
   "nbconvert_exporter": "python",
   "pygments_lexer": "ipython3",
   "version": "3.12.7"
  },
  "toc": {
   "base_numbering": 1,
   "nav_menu": {},
   "number_sections": true,
   "sideBar": true,
   "skip_h1_title": true,
   "title_cell": "Содержание",
   "title_sidebar": "Contents",
   "toc_cell": true,
   "toc_position": {},
   "toc_section_display": true,
   "toc_window_display": true
  }
 },
 "nbformat": 4,
 "nbformat_minor": 4
}
